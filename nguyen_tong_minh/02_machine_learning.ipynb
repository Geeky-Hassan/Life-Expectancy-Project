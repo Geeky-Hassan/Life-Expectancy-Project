{
 "cells": [
  {
   "cell_type": "markdown",
   "id": "f251cf00",
   "metadata": {},
   "source": [
    "# MACHINE LEARING\n",
    "A notebook to implement machine learning techniques."
   ]
  },
  {
   "cell_type": "markdown",
   "id": "6094655b",
   "metadata": {},
   "source": [
    "# 1. Setup"
   ]
  },
  {
   "cell_type": "code",
   "execution_count": 1,
   "id": "388e6b1e",
   "metadata": {},
   "outputs": [],
   "source": [
    "# Python ≥3.5 is required\n",
    "import sys\n",
    "assert sys.version_info >= (3, 5)\n",
    "\n",
    "# Disable warnings\n",
    "import warnings\n",
    "warnings.filterwarnings('ignore')\n",
    "\n",
    "# Scikit-Learn ≥0.20 is required\n",
    "import sklearn\n",
    "assert sklearn.__version__ >= \"0.20\"\n",
    "\n",
    "# Common imports\n",
    "import pandas as pd\n",
    "import numpy as np\n",
    "import os\n",
    "\n",
    "# to make this notebook's output stable across runs\n",
    "np.random.seed(42)\n",
    "\n",
    "# To plot pretty figures\n",
    "%matplotlib inline\n",
    "import matplotlib as mpl\n",
    "import matplotlib.pyplot as plt\n",
    "mpl.rc('axes', labelsize=14)\n",
    "mpl.rc('xtick', labelsize=12)\n",
    "mpl.rc('ytick', labelsize=12)\n",
    "import seaborn as sns"
   ]
  },
  {
   "cell_type": "code",
   "execution_count": 5,
   "id": "87300c42",
   "metadata": {},
   "outputs": [],
   "source": [
    "# Where to save the figures\n",
    "PROJECT_ROOT_DIR = \".\"\n",
    "CHAPTER_ID = \"02_machine_learning\"\n",
    "IMAGES_PATH = os.path.join(PROJECT_ROOT_DIR, \"images\", CHAPTER_ID)\n",
    "os.makedirs(IMAGES_PATH, exist_ok=True)\n",
    "\n",
    "def save_fig(fig_id, tight_layout=True, fig_extension=\"png\", resolution=300):\n",
    "    path = os.path.join(IMAGES_PATH, fig_id + \".\" + fig_extension)\n",
    "    print(\"Saving figure\", fig_id)\n",
    "    if tight_layout:\n",
    "        plt.tight_layout()\n",
    "    plt.savefig(path, format=fig_extension, dpi=resolution)"
   ]
  },
  {
   "cell_type": "code",
   "execution_count": 7,
   "id": "d5baf851",
   "metadata": {},
   "outputs": [],
   "source": [
    "# Where to save the models\n",
    "import joblib\n",
    "\n",
    "PROJECT_ROOT_DIR = \".\"\n",
    "CHAPTER_ID = \"02_machine_learning\"\n",
    "MODELS_PATH = os.path.join(PROJECT_ROOT_DIR, \"models\", CHAPTER_ID)\n",
    "os.makedirs(MODELS_PATH, exist_ok=True)\n",
    "\n",
    "def save_model(model, model_id):\n",
    "    '''To save model in the corresponding directory'''\n",
    "    joblib.dump(model, os.path.join(MODELS_PATH, model_id + \".\" + \"pkl\"))\n",
    "\n",
    "def load_model(model_id):\n",
    "    '''To load model from the corresponding directory'''\n",
    "    return joblib.load(os.path.join(MODELS_PATH, model_id + \".\" + \"pkl\"))"
   ]
  },
  {
   "cell_type": "markdown",
   "id": "f04481c2",
   "metadata": {},
   "source": [
    "**Note:** I will jump directly to the main dishes (pipelines and metrics) since the data cleaning and EDA have been caried already."
   ]
  },
  {
   "cell_type": "code",
   "execution_count": null,
   "id": "5d161e37",
   "metadata": {},
   "outputs": [],
   "source": []
  }
 ],
 "metadata": {
  "kernelspec": {
   "display_name": "Python 3 (ipykernel)",
   "language": "python",
   "name": "python3"
  },
  "language_info": {
   "codemirror_mode": {
    "name": "ipython",
    "version": 3
   },
   "file_extension": ".py",
   "mimetype": "text/x-python",
   "name": "python",
   "nbconvert_exporter": "python",
   "pygments_lexer": "ipython3",
   "version": "3.9.7"
  }
 },
 "nbformat": 4,
 "nbformat_minor": 5
}
