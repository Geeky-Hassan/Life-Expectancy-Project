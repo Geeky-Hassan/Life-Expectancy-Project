{
 "cells": [
  {
   "cell_type": "markdown",
   "id": "f251cf00",
   "metadata": {},
   "source": [
    "# MACHINE LEARING\n",
    "A notebook to implement machine learning techniques."
   ]
  },
  {
   "cell_type": "markdown",
   "id": "6094655b",
   "metadata": {},
   "source": [
    "# 1. Setup"
   ]
  },
  {
   "cell_type": "code",
   "execution_count": 322,
   "id": "388e6b1e",
   "metadata": {},
   "outputs": [],
   "source": [
    "# Python ≥3.5 is required\n",
    "import sys\n",
    "assert sys.version_info >= (3, 5)\n",
    "\n",
    "# Disable warnings\n",
    "import warnings\n",
    "warnings.filterwarnings('ignore')\n",
    "\n",
    "# Scikit-Learn ≥0.20 is required\n",
    "import sklearn\n",
    "assert sklearn.__version__ >= \"0.20\"\n",
    "\n",
    "# Common imports\n",
    "import pandas as pd\n",
    "import numpy as np\n",
    "import os\n",
    "import copy\n",
    "import json\n",
    "\n",
    "# to make this notebook's output stable across runs\n",
    "np.random.seed(42)\n",
    "\n",
    "# To plot pretty figures\n",
    "%matplotlib inline\n",
    "import matplotlib as mpl\n",
    "import matplotlib.pyplot as plt\n",
    "mpl.rc('axes', labelsize=14)\n",
    "mpl.rc('xtick', labelsize=12)\n",
    "mpl.rc('ytick', labelsize=12)\n",
    "import seaborn as sns"
   ]
  },
  {
   "cell_type": "code",
   "execution_count": 323,
   "id": "28c2e6b4",
   "metadata": {},
   "outputs": [],
   "source": [
    "# Scikit-Learn modules in use\n",
    "\n",
    "# prepare test set\n",
    "from sklearn.model_selection import train_test_split\n",
    "from sklearn.utils import shuffle\n",
    "\n",
    "# preprocessing\n",
    "from sklearn.base import BaseEstimator, TransformerMixin\n",
    "from sklearn.pipeline import Pipeline\n",
    "from sklearn.preprocessing import StandardScaler, OneHotEncoder\n",
    "from sklearn.compose import ColumnTransformer\n",
    "from sklearn.cluster import DBSCAN\n",
    "from sklearn.preprocessing import PolynomialFeatures\n",
    "from sklearn.impute import SimpleImputer\n",
    "\n",
    "# train and select models\n",
    "from sklearn.metrics import mean_squared_error\n",
    "from sklearn.linear_model import LinearRegression\n",
    "from sklearn.model_selection import cross_val_score\n",
    "from sklearn.metrics import r2_score\n",
    "from sklearn.cluster import KMeans\n",
    "from sklearn.linear_model import ElasticNet\n",
    "from sklearn.base import clone\n",
    "from sklearn.neighbors import KNeighborsClassifier\n",
    "\n",
    "# cross-valiate model\n",
    "from sklearn.model_selection import RandomizedSearchCV\n",
    "from sklearn.model_selection import GridSearchCV\n",
    "from scipy.stats import randint, uniform"
   ]
  },
  {
   "cell_type": "code",
   "execution_count": 324,
   "id": "87300c42",
   "metadata": {},
   "outputs": [],
   "source": [
    "# Where to save the figures\n",
    "PROJECT_ROOT_DIR = \".\"\n",
    "CHAPTER_ID = \"02_machine_learning\"\n",
    "IMAGES_PATH = os.path.join(PROJECT_ROOT_DIR, \"images\", CHAPTER_ID)\n",
    "os.makedirs(IMAGES_PATH, exist_ok=True)\n",
    "\n",
    "def save_fig(fig_id, tight_layout=True, fig_extension=\"png\", resolution=300):\n",
    "    path = os.path.join(IMAGES_PATH, fig_id + \".\" + fig_extension)\n",
    "    print(\"Saving figure\", fig_id)\n",
    "    if tight_layout:\n",
    "        plt.tight_layout()\n",
    "    plt.savefig(path, format=fig_extension, dpi=resolution)"
   ]
  },
  {
   "cell_type": "code",
   "execution_count": 325,
   "id": "d5baf851",
   "metadata": {},
   "outputs": [],
   "source": [
    "# Where to save the models\n",
    "import joblib\n",
    "\n",
    "PROJECT_ROOT_DIR = \".\"\n",
    "CHAPTER_ID = \"02_machine_learning\"\n",
    "MODELS_PATH = os.path.join(PROJECT_ROOT_DIR, \"models\", CHAPTER_ID)\n",
    "os.makedirs(MODELS_PATH, exist_ok=True)\n",
    "\n",
    "def save_model(model, model_id):\n",
    "    '''To save model in the corresponding directory'''\n",
    "    joblib.dump(model, os.path.join(MODELS_PATH, model_id + \".\" + \"pkl\"))\n",
    "\n",
    "def load_model(model_id):\n",
    "    '''To load model from the corresponding directory'''\n",
    "    return joblib.load(os.path.join(MODELS_PATH, model_id + \".\" + \"pkl\"))"
   ]
  },
  {
   "cell_type": "markdown",
   "id": "f04481c2",
   "metadata": {},
   "source": [
    "**Note:** I will jump directly to the main dishes (pipelines and metrics) since the data cleaning and EDA have been caried already."
   ]
  },
  {
   "cell_type": "markdown",
   "id": "9e7beeef",
   "metadata": {},
   "source": [
    "# 2. Create a Test Set"
   ]
  },
  {
   "cell_type": "markdown",
   "id": "bf069d1b",
   "metadata": {},
   "source": [
    "## 2.1. Load the Data"
   ]
  },
  {
   "cell_type": "code",
   "execution_count": 326,
   "id": "e24abdf6",
   "metadata": {},
   "outputs": [
    {
     "data": {
      "text/html": [
       "<div>\n",
       "<style scoped>\n",
       "    .dataframe tbody tr th:only-of-type {\n",
       "        vertical-align: middle;\n",
       "    }\n",
       "\n",
       "    .dataframe tbody tr th {\n",
       "        vertical-align: top;\n",
       "    }\n",
       "\n",
       "    .dataframe thead th {\n",
       "        text-align: right;\n",
       "    }\n",
       "</style>\n",
       "<table border=\"1\" class=\"dataframe\">\n",
       "  <thead>\n",
       "    <tr style=\"text-align: right;\">\n",
       "      <th></th>\n",
       "      <th>Country</th>\n",
       "      <th>Year</th>\n",
       "      <th>Status</th>\n",
       "      <th>Life expectancy</th>\n",
       "      <th>Adult Mortality</th>\n",
       "      <th>infant deaths</th>\n",
       "      <th>Alcohol</th>\n",
       "      <th>percentage expenditure</th>\n",
       "      <th>Hepatitis B</th>\n",
       "      <th>Measles</th>\n",
       "      <th>...</th>\n",
       "      <th>Polio</th>\n",
       "      <th>Total expenditure</th>\n",
       "      <th>Diphtheria</th>\n",
       "      <th>HIV/AIDS</th>\n",
       "      <th>GDP</th>\n",
       "      <th>Population</th>\n",
       "      <th>thinness  1-19 years</th>\n",
       "      <th>thinness 5-9 years</th>\n",
       "      <th>Income composition of resources</th>\n",
       "      <th>Schooling</th>\n",
       "    </tr>\n",
       "  </thead>\n",
       "  <tbody>\n",
       "    <tr>\n",
       "      <th>0</th>\n",
       "      <td>Afghanistan</td>\n",
       "      <td>2015</td>\n",
       "      <td>Developing</td>\n",
       "      <td>65.0</td>\n",
       "      <td>263.0</td>\n",
       "      <td>62</td>\n",
       "      <td>0.01</td>\n",
       "      <td>71.279624</td>\n",
       "      <td>65.0</td>\n",
       "      <td>1154</td>\n",
       "      <td>...</td>\n",
       "      <td>6.0</td>\n",
       "      <td>8.16</td>\n",
       "      <td>65.0</td>\n",
       "      <td>0.1</td>\n",
       "      <td>584.259210</td>\n",
       "      <td>33736494.0</td>\n",
       "      <td>17.2</td>\n",
       "      <td>17.3</td>\n",
       "      <td>0.479</td>\n",
       "      <td>10.1</td>\n",
       "    </tr>\n",
       "    <tr>\n",
       "      <th>1</th>\n",
       "      <td>Afghanistan</td>\n",
       "      <td>2014</td>\n",
       "      <td>Developing</td>\n",
       "      <td>59.9</td>\n",
       "      <td>271.0</td>\n",
       "      <td>64</td>\n",
       "      <td>0.01</td>\n",
       "      <td>73.523582</td>\n",
       "      <td>62.0</td>\n",
       "      <td>492</td>\n",
       "      <td>...</td>\n",
       "      <td>58.0</td>\n",
       "      <td>8.18</td>\n",
       "      <td>62.0</td>\n",
       "      <td>0.1</td>\n",
       "      <td>612.696514</td>\n",
       "      <td>327582.0</td>\n",
       "      <td>17.5</td>\n",
       "      <td>17.5</td>\n",
       "      <td>0.476</td>\n",
       "      <td>10.0</td>\n",
       "    </tr>\n",
       "    <tr>\n",
       "      <th>2</th>\n",
       "      <td>Afghanistan</td>\n",
       "      <td>2013</td>\n",
       "      <td>Developing</td>\n",
       "      <td>59.9</td>\n",
       "      <td>268.0</td>\n",
       "      <td>66</td>\n",
       "      <td>0.01</td>\n",
       "      <td>73.219243</td>\n",
       "      <td>64.0</td>\n",
       "      <td>430</td>\n",
       "      <td>...</td>\n",
       "      <td>62.0</td>\n",
       "      <td>8.13</td>\n",
       "      <td>64.0</td>\n",
       "      <td>0.1</td>\n",
       "      <td>631.744976</td>\n",
       "      <td>31731688.0</td>\n",
       "      <td>17.7</td>\n",
       "      <td>17.7</td>\n",
       "      <td>0.470</td>\n",
       "      <td>9.9</td>\n",
       "    </tr>\n",
       "    <tr>\n",
       "      <th>3</th>\n",
       "      <td>Afghanistan</td>\n",
       "      <td>2012</td>\n",
       "      <td>Developing</td>\n",
       "      <td>59.5</td>\n",
       "      <td>272.0</td>\n",
       "      <td>69</td>\n",
       "      <td>0.01</td>\n",
       "      <td>78.184215</td>\n",
       "      <td>67.0</td>\n",
       "      <td>2787</td>\n",
       "      <td>...</td>\n",
       "      <td>67.0</td>\n",
       "      <td>8.52</td>\n",
       "      <td>67.0</td>\n",
       "      <td>0.1</td>\n",
       "      <td>669.959000</td>\n",
       "      <td>3696958.0</td>\n",
       "      <td>17.9</td>\n",
       "      <td>18.0</td>\n",
       "      <td>0.463</td>\n",
       "      <td>9.8</td>\n",
       "    </tr>\n",
       "    <tr>\n",
       "      <th>4</th>\n",
       "      <td>Afghanistan</td>\n",
       "      <td>2011</td>\n",
       "      <td>Developing</td>\n",
       "      <td>59.2</td>\n",
       "      <td>275.0</td>\n",
       "      <td>71</td>\n",
       "      <td>0.01</td>\n",
       "      <td>7.097109</td>\n",
       "      <td>68.0</td>\n",
       "      <td>3013</td>\n",
       "      <td>...</td>\n",
       "      <td>68.0</td>\n",
       "      <td>7.87</td>\n",
       "      <td>68.0</td>\n",
       "      <td>0.1</td>\n",
       "      <td>63.537231</td>\n",
       "      <td>2978599.0</td>\n",
       "      <td>18.2</td>\n",
       "      <td>18.2</td>\n",
       "      <td>0.454</td>\n",
       "      <td>9.5</td>\n",
       "    </tr>\n",
       "  </tbody>\n",
       "</table>\n",
       "<p>5 rows × 22 columns</p>\n",
       "</div>"
      ],
      "text/plain": [
       "       Country  Year      Status  Life expectancy   Adult Mortality  \\\n",
       "0  Afghanistan  2015  Developing              65.0            263.0   \n",
       "1  Afghanistan  2014  Developing              59.9            271.0   \n",
       "2  Afghanistan  2013  Developing              59.9            268.0   \n",
       "3  Afghanistan  2012  Developing              59.5            272.0   \n",
       "4  Afghanistan  2011  Developing              59.2            275.0   \n",
       "\n",
       "   infant deaths  Alcohol  percentage expenditure  Hepatitis B  Measles   ...  \\\n",
       "0             62     0.01               71.279624         65.0      1154  ...   \n",
       "1             64     0.01               73.523582         62.0       492  ...   \n",
       "2             66     0.01               73.219243         64.0       430  ...   \n",
       "3             69     0.01               78.184215         67.0      2787  ...   \n",
       "4             71     0.01                7.097109         68.0      3013  ...   \n",
       "\n",
       "   Polio  Total expenditure  Diphtheria    HIV/AIDS         GDP  Population  \\\n",
       "0    6.0               8.16         65.0        0.1  584.259210  33736494.0   \n",
       "1   58.0               8.18         62.0        0.1  612.696514    327582.0   \n",
       "2   62.0               8.13         64.0        0.1  631.744976  31731688.0   \n",
       "3   67.0               8.52         67.0        0.1  669.959000   3696958.0   \n",
       "4   68.0               7.87         68.0        0.1   63.537231   2978599.0   \n",
       "\n",
       "    thinness  1-19 years   thinness 5-9 years  \\\n",
       "0                   17.2                 17.3   \n",
       "1                   17.5                 17.5   \n",
       "2                   17.7                 17.7   \n",
       "3                   17.9                 18.0   \n",
       "4                   18.2                 18.2   \n",
       "\n",
       "   Income composition of resources  Schooling  \n",
       "0                            0.479       10.1  \n",
       "1                            0.476       10.0  \n",
       "2                            0.470        9.9  \n",
       "3                            0.463        9.8  \n",
       "4                            0.454        9.5  \n",
       "\n",
       "[5 rows x 22 columns]"
      ]
     },
     "execution_count": 326,
     "metadata": {},
     "output_type": "execute_result"
    }
   ],
   "source": [
    "# Load the dataset\n",
    "df = pd.read_csv(\"./dataset/life_expectancy.csv\")\n",
    "df.head()"
   ]
  },
  {
   "cell_type": "code",
   "execution_count": 327,
   "id": "34b979ba",
   "metadata": {},
   "outputs": [
    {
     "data": {
      "text/plain": [
       "Index(['country', 'year', 'status', 'life_expectancy', 'adult_mortality',\n",
       "       'infant_deaths', 'alcohol', 'percentage_exp', 'hepatitisb', 'measles',\n",
       "       'bmi', 'under_five_deaths', 'polio', 'tot_exp', 'diphtheria',\n",
       "       'hiv/aids', 'gdp', 'population', 'thinness_1to19_years',\n",
       "       'thinness_5to9_years', 'income_comp_of_resources', 'schooling'],\n",
       "      dtype='object')"
      ]
     },
     "execution_count": 327,
     "metadata": {},
     "output_type": "execute_result"
    }
   ],
   "source": [
    "# Rename some columns as their names contain trailing spaces\n",
    "df.rename(columns={\" BMI \":\"BMI\",\"Life expectancy \":\"Life_Expectancy\",\"Adult Mortality\":\"Adult_Mortality\",\n",
    "                   \"infant deaths\":\"Infant_Deaths\",\"percentage expenditure\":\"Percentage_Exp\",\"Hepatitis B\":\"HepatitisB\",\n",
    "                  \"Measles \":\"Measles\",\" BMI \":\"BMI\",\"under-five deaths \":\"Under_Five_Deaths\",\"Diphtheria \":\"Diphtheria\",\n",
    "                  \" HIV/AIDS\":\"HIV/AIDS\",\" thinness  1-19 years\":\"thinness_1to19_years\",\" thinness 5-9 years\":\"thinness_5to9_years\",\"Income composition of resources\":\"Income_Comp_Of_Resources\",\n",
    "                   \"Total expenditure\":\"Tot_Exp\"},inplace=True)\n",
    "df.columns = [alias.lower() for alias in df.columns]\n",
    "df.columns"
   ]
  },
  {
   "cell_type": "code",
   "execution_count": 328,
   "id": "0ec9759f",
   "metadata": {},
   "outputs": [
    {
     "data": {
      "text/plain": [
       "0"
      ]
     },
     "execution_count": 328,
     "metadata": {},
     "output_type": "execute_result"
    }
   ],
   "source": [
    "# Drop the instances without label (life_expectancy)\n",
    "df.dropna(subset=[\"life_expectancy\"], axis=0, inplace=True)\n",
    "df.life_expectancy.isnull().sum()"
   ]
  },
  {
   "cell_type": "markdown",
   "id": "67d20811",
   "metadata": {},
   "source": [
    "## 2.2. Create a Test Set"
   ]
  },
  {
   "cell_type": "code",
   "execution_count": 329,
   "id": "b3caeeed",
   "metadata": {},
   "outputs": [],
   "source": [
    "# Define the test size\n",
    "test_size = 0.25"
   ]
  },
  {
   "cell_type": "markdown",
   "id": "1071f197",
   "metadata": {},
   "source": [
    "### 2.2.1. Random Sampling"
   ]
  },
  {
   "cell_type": "code",
   "execution_count": 304,
   "id": "79d63001",
   "metadata": {},
   "outputs": [],
   "source": [
    "# Create a Test Set\n",
    "train_set, test_set = train_test_split(df, test_size=test_size, random_state=42)"
   ]
  },
  {
   "cell_type": "markdown",
   "id": "104ab3b6",
   "metadata": {},
   "source": [
    "### 2.2.2. Stratified Sampling (Optional)"
   ]
  },
  {
   "cell_type": "markdown",
   "id": "23293602",
   "metadata": {},
   "source": [
    "**Note:** The training set and test set will preserve as much as possible the distribution of features `hiv/aids`, `income_comp_of_resources`, `schooling` and `status` as they strongly correlare with `life_expectancy` [EDA]."
   ]
  },
  {
   "cell_type": "code",
   "execution_count": 330,
   "id": "4467d059",
   "metadata": {},
   "outputs": [
    {
     "data": {
      "text/plain": [
       "hiv/aids                      0\n",
       "income_comp_of_resources    160\n",
       "schooling                   160\n",
       "status                        0\n",
       "dtype: int64"
      ]
     },
     "execution_count": 330,
     "metadata": {},
     "output_type": "execute_result"
    }
   ],
   "source": [
    "# Check the number of null values in these features\n",
    "df[[\"hiv/aids\", \"income_comp_of_resources\", \"schooling\", \"status\"]].isnull().sum()"
   ]
  },
  {
   "cell_type": "code",
   "execution_count": 331,
   "id": "7166460d",
   "metadata": {},
   "outputs": [],
   "source": [
    "# Save the original dataset\n",
    "df_origin = df.copy()"
   ]
  },
  {
   "cell_type": "code",
   "execution_count": 332,
   "id": "a62b372b",
   "metadata": {},
   "outputs": [
    {
     "data": {
      "text/plain": [
       "160"
      ]
     },
     "execution_count": 332,
     "metadata": {},
     "output_type": "execute_result"
    }
   ],
   "source": [
    "# Categorize income composition of resources (HDI)\n",
    "# source: https://en.wikipedia.org/wiki/Human_Development_Index\n",
    "bins = pd.IntervalIndex.from_tuples([(-0.009, 0.549), (0.549, 0.699), (0.699, 0.799), (0.799, 1)])\n",
    "df[\"income_comp_of_resources_cat\"] = pd.cut(df[\"income_comp_of_resources\"], bins=bins)\n",
    "df[\"income_comp_of_resources_cat\"].isnull().sum()"
   ]
  },
  {
   "cell_type": "code",
   "execution_count": 333,
   "id": "aca59fd2",
   "metadata": {},
   "outputs": [
    {
     "data": {
      "text/plain": [
       "0"
      ]
     },
     "execution_count": 333,
     "metadata": {},
     "output_type": "execute_result"
    }
   ],
   "source": [
    "# Categorize hiv/aids (infant deaths per 1000)\n",
    "# no general criterion found, so let's categorize based on box plot in EDA\n",
    "bins = pd.IntervalIndex.from_tuples([(0.099, 5.15), (5.15, 20), (20, 50.6)])\n",
    "df[\"hiv/aids_cat\"] = pd.cut(df[\"hiv/aids\"], bins=bins)\n",
    "df[\"hiv/aids_cat\"].isnull().sum()"
   ]
  },
  {
   "cell_type": "code",
   "execution_count": 334,
   "id": "848f7e2d",
   "metadata": {},
   "outputs": [
    {
     "data": {
      "text/plain": [
       "160"
      ]
     },
     "execution_count": 334,
     "metadata": {},
     "output_type": "execute_result"
    }
   ],
   "source": [
    "# Categorize schooling (number of years of schooling)\n",
    "# source: https://en.wikipedia.org/wiki/Educational_stage\n",
    "bins = pd.IntervalIndex.from_tuples([(-1, 3), (3, 5), (5, 12), (12, 19), (19, 21)])\n",
    "df[\"schooling_cat\"] = pd.cut(df[\"schooling\"], bins=bins)\n",
    "df[\"schooling_cat\"].isnull().sum()"
   ]
  },
  {
   "cell_type": "code",
   "execution_count": 335,
   "id": "8f1dfe1c",
   "metadata": {},
   "outputs": [
    {
     "data": {
      "text/plain": [
       "income_comp_of_resources    0\n",
       "schooling                   0\n",
       "dtype: int64"
      ]
     },
     "execution_count": 335,
     "metadata": {},
     "output_type": "execute_result"
    }
   ],
   "source": [
    "# Drop the records with missing values in the two columns\n",
    "df_dropped = df[df[\"income_comp_of_resources\"].isnull() | df[\"schooling\"].isnull()]\n",
    "df.dropna(subset=[\"income_comp_of_resources\", \"schooling\"], inplace=True)\n",
    "df[[\"income_comp_of_resources\", \"schooling\"]].isnull().sum()"
   ]
  },
  {
   "cell_type": "code",
   "execution_count": 336,
   "id": "ec29d4b3",
   "metadata": {},
   "outputs": [
    {
     "data": {
      "text/plain": [
       "160"
      ]
     },
     "execution_count": 336,
     "metadata": {},
     "output_type": "execute_result"
    }
   ],
   "source": [
    "# Show the number of instances dropped\n",
    "df_dropped.shape[0]"
   ]
  },
  {
   "cell_type": "markdown",
   "id": "2da31feb",
   "metadata": {},
   "source": [
    "**Note:** Since there are just 160 rows dropped (which will not be stratified), which is around 5.5% of data, there will be little harm to the distribution of stratum if I add them back after stratified sampling."
   ]
  },
  {
   "cell_type": "code",
   "execution_count": 337,
   "id": "d1738908",
   "metadata": {},
   "outputs": [
    {
     "data": {
      "text/html": [
       "<div>\n",
       "<style scoped>\n",
       "    .dataframe tbody tr th:only-of-type {\n",
       "        vertical-align: middle;\n",
       "    }\n",
       "\n",
       "    .dataframe tbody tr th {\n",
       "        vertical-align: top;\n",
       "    }\n",
       "\n",
       "    .dataframe thead th {\n",
       "        text-align: right;\n",
       "    }\n",
       "</style>\n",
       "<table border=\"1\" class=\"dataframe\">\n",
       "  <thead>\n",
       "    <tr style=\"text-align: right;\">\n",
       "      <th></th>\n",
       "      <th>country</th>\n",
       "      <th>year</th>\n",
       "      <th>status</th>\n",
       "      <th>life_expectancy</th>\n",
       "      <th>adult_mortality</th>\n",
       "      <th>infant_deaths</th>\n",
       "      <th>alcohol</th>\n",
       "      <th>percentage_exp</th>\n",
       "      <th>hepatitisb</th>\n",
       "      <th>measles</th>\n",
       "      <th>...</th>\n",
       "      <th>hiv/aids</th>\n",
       "      <th>gdp</th>\n",
       "      <th>population</th>\n",
       "      <th>thinness_1to19_years</th>\n",
       "      <th>thinness_5to9_years</th>\n",
       "      <th>income_comp_of_resources</th>\n",
       "      <th>schooling</th>\n",
       "      <th>income_comp_of_resources_cat</th>\n",
       "      <th>hiv/aids_cat</th>\n",
       "      <th>schooling_cat</th>\n",
       "    </tr>\n",
       "  </thead>\n",
       "  <tbody>\n",
       "    <tr>\n",
       "      <th>2456</th>\n",
       "      <td>Sri Lanka</td>\n",
       "      <td>2000</td>\n",
       "      <td>Developing</td>\n",
       "      <td>71.5</td>\n",
       "      <td>175.0</td>\n",
       "      <td>5</td>\n",
       "      <td>1.45</td>\n",
       "      <td>60.490981</td>\n",
       "      <td>NaN</td>\n",
       "      <td>16527</td>\n",
       "      <td>...</td>\n",
       "      <td>0.1</td>\n",
       "      <td>875.412178</td>\n",
       "      <td>18655.0</td>\n",
       "      <td>15.3</td>\n",
       "      <td>15.5</td>\n",
       "      <td>0.677</td>\n",
       "      <td>12.4</td>\n",
       "      <td>(0.549, 0.699]</td>\n",
       "      <td>(0.099, 5.15]</td>\n",
       "      <td>(12, 19]</td>\n",
       "    </tr>\n",
       "    <tr>\n",
       "      <th>486</th>\n",
       "      <td>Cameroon</td>\n",
       "      <td>2009</td>\n",
       "      <td>Developing</td>\n",
       "      <td>54.8</td>\n",
       "      <td>373.0</td>\n",
       "      <td>54</td>\n",
       "      <td>5.89</td>\n",
       "      <td>9.042541</td>\n",
       "      <td>8.0</td>\n",
       "      <td>251</td>\n",
       "      <td>...</td>\n",
       "      <td>6.3</td>\n",
       "      <td>123.195380</td>\n",
       "      <td>19432541.0</td>\n",
       "      <td>6.3</td>\n",
       "      <td>6.3</td>\n",
       "      <td>0.473</td>\n",
       "      <td>9.2</td>\n",
       "      <td>(-0.009, 0.549]</td>\n",
       "      <td>(5.15, 20.0]</td>\n",
       "      <td>(5, 12]</td>\n",
       "    </tr>\n",
       "    <tr>\n",
       "      <th>1518</th>\n",
       "      <td>Libya</td>\n",
       "      <td>2003</td>\n",
       "      <td>Developing</td>\n",
       "      <td>71.3</td>\n",
       "      <td>144.0</td>\n",
       "      <td>3</td>\n",
       "      <td>0.01</td>\n",
       "      <td>295.116651</td>\n",
       "      <td>96.0</td>\n",
       "      <td>0</td>\n",
       "      <td>...</td>\n",
       "      <td>0.1</td>\n",
       "      <td>4676.967530</td>\n",
       "      <td>NaN</td>\n",
       "      <td>5.6</td>\n",
       "      <td>5.4</td>\n",
       "      <td>0.740</td>\n",
       "      <td>16.0</td>\n",
       "      <td>(0.699, 0.799]</td>\n",
       "      <td>(0.099, 5.15]</td>\n",
       "      <td>(12, 19]</td>\n",
       "    </tr>\n",
       "    <tr>\n",
       "      <th>1952</th>\n",
       "      <td>Pakistan</td>\n",
       "      <td>2005</td>\n",
       "      <td>Developing</td>\n",
       "      <td>62.9</td>\n",
       "      <td>2.0</td>\n",
       "      <td>364</td>\n",
       "      <td>0.04</td>\n",
       "      <td>30.593208</td>\n",
       "      <td>7.0</td>\n",
       "      <td>2981</td>\n",
       "      <td>...</td>\n",
       "      <td>0.1</td>\n",
       "      <td>711.469946</td>\n",
       "      <td>15399667.0</td>\n",
       "      <td>21.2</td>\n",
       "      <td>21.7</td>\n",
       "      <td>0.487</td>\n",
       "      <td>6.1</td>\n",
       "      <td>(-0.009, 0.549]</td>\n",
       "      <td>(0.099, 5.15]</td>\n",
       "      <td>(5, 12]</td>\n",
       "    </tr>\n",
       "    <tr>\n",
       "      <th>65</th>\n",
       "      <td>Antigua and Barbuda</td>\n",
       "      <td>2014</td>\n",
       "      <td>Developing</td>\n",
       "      <td>76.2</td>\n",
       "      <td>131.0</td>\n",
       "      <td>0</td>\n",
       "      <td>8.56</td>\n",
       "      <td>2422.999774</td>\n",
       "      <td>99.0</td>\n",
       "      <td>0</td>\n",
       "      <td>...</td>\n",
       "      <td>0.2</td>\n",
       "      <td>12888.296670</td>\n",
       "      <td>NaN</td>\n",
       "      <td>3.3</td>\n",
       "      <td>3.3</td>\n",
       "      <td>0.782</td>\n",
       "      <td>13.9</td>\n",
       "      <td>(0.699, 0.799]</td>\n",
       "      <td>(0.099, 5.15]</td>\n",
       "      <td>(12, 19]</td>\n",
       "    </tr>\n",
       "  </tbody>\n",
       "</table>\n",
       "<p>5 rows × 25 columns</p>\n",
       "</div>"
      ],
      "text/plain": [
       "                  country  year      status  life_expectancy  adult_mortality  \\\n",
       "2456            Sri Lanka  2000  Developing             71.5            175.0   \n",
       "486              Cameroon  2009  Developing             54.8            373.0   \n",
       "1518                Libya  2003  Developing             71.3            144.0   \n",
       "1952             Pakistan  2005  Developing             62.9              2.0   \n",
       "65    Antigua and Barbuda  2014  Developing             76.2            131.0   \n",
       "\n",
       "      infant_deaths  alcohol  percentage_exp  hepatitisb  measles  ...  \\\n",
       "2456              5     1.45       60.490981         NaN    16527  ...   \n",
       "486              54     5.89        9.042541         8.0      251  ...   \n",
       "1518              3     0.01      295.116651        96.0        0  ...   \n",
       "1952            364     0.04       30.593208         7.0     2981  ...   \n",
       "65                0     8.56     2422.999774        99.0        0  ...   \n",
       "\n",
       "      hiv/aids           gdp  population  thinness_1to19_years  \\\n",
       "2456       0.1    875.412178     18655.0                  15.3   \n",
       "486        6.3    123.195380  19432541.0                   6.3   \n",
       "1518       0.1   4676.967530         NaN                   5.6   \n",
       "1952       0.1    711.469946  15399667.0                  21.2   \n",
       "65         0.2  12888.296670         NaN                   3.3   \n",
       "\n",
       "      thinness_5to9_years  income_comp_of_resources  schooling  \\\n",
       "2456                 15.5                     0.677       12.4   \n",
       "486                   6.3                     0.473        9.2   \n",
       "1518                  5.4                     0.740       16.0   \n",
       "1952                 21.7                     0.487        6.1   \n",
       "65                    3.3                     0.782       13.9   \n",
       "\n",
       "      income_comp_of_resources_cat   hiv/aids_cat  schooling_cat  \n",
       "2456                (0.549, 0.699]  (0.099, 5.15]       (12, 19]  \n",
       "486                (-0.009, 0.549]   (5.15, 20.0]        (5, 12]  \n",
       "1518                (0.699, 0.799]  (0.099, 5.15]       (12, 19]  \n",
       "1952               (-0.009, 0.549]  (0.099, 5.15]        (5, 12]  \n",
       "65                  (0.699, 0.799]  (0.099, 5.15]       (12, 19]  \n",
       "\n",
       "[5 rows x 25 columns]"
      ]
     },
     "execution_count": 337,
     "metadata": {},
     "output_type": "execute_result"
    }
   ],
   "source": [
    "# Create a test set\n",
    "pre_train_set, pre_test_set = train_test_split(df, test_size=test_size, random_state=42,\n",
    "                                       stratify=df[[\"hiv/aids_cat\", \"income_comp_of_resources_cat\", \"schooling_cat\", \"status\"]])\n",
    "pre_test_set.head()"
   ]
  },
  {
   "cell_type": "code",
   "execution_count": 338,
   "id": "f1ca05ac",
   "metadata": {},
   "outputs": [
    {
     "data": {
      "text/html": [
       "<div>\n",
       "<style scoped>\n",
       "    .dataframe tbody tr th:only-of-type {\n",
       "        vertical-align: middle;\n",
       "    }\n",
       "\n",
       "    .dataframe tbody tr th {\n",
       "        vertical-align: top;\n",
       "    }\n",
       "\n",
       "    .dataframe thead th {\n",
       "        text-align: right;\n",
       "    }\n",
       "</style>\n",
       "<table border=\"1\" class=\"dataframe\">\n",
       "  <thead>\n",
       "    <tr style=\"text-align: right;\">\n",
       "      <th></th>\n",
       "      <th>country</th>\n",
       "      <th>year</th>\n",
       "      <th>status</th>\n",
       "      <th>life_expectancy</th>\n",
       "      <th>adult_mortality</th>\n",
       "      <th>infant_deaths</th>\n",
       "      <th>alcohol</th>\n",
       "      <th>percentage_exp</th>\n",
       "      <th>hepatitisb</th>\n",
       "      <th>measles</th>\n",
       "      <th>...</th>\n",
       "      <th>hiv/aids</th>\n",
       "      <th>gdp</th>\n",
       "      <th>population</th>\n",
       "      <th>thinness_1to19_years</th>\n",
       "      <th>thinness_5to9_years</th>\n",
       "      <th>income_comp_of_resources</th>\n",
       "      <th>schooling</th>\n",
       "      <th>income_comp_of_resources_cat</th>\n",
       "      <th>hiv/aids_cat</th>\n",
       "      <th>schooling_cat</th>\n",
       "    </tr>\n",
       "  </thead>\n",
       "  <tbody>\n",
       "    <tr>\n",
       "      <th>2868</th>\n",
       "      <td>Venezuela (Bolivarian Republic of)</td>\n",
       "      <td>2005</td>\n",
       "      <td>Developing</td>\n",
       "      <td>73.6</td>\n",
       "      <td>158.0</td>\n",
       "      <td>9</td>\n",
       "      <td>7.92</td>\n",
       "      <td>0.000000</td>\n",
       "      <td>88.0</td>\n",
       "      <td>0</td>\n",
       "      <td>...</td>\n",
       "      <td>0.1</td>\n",
       "      <td>NaN</td>\n",
       "      <td>NaN</td>\n",
       "      <td>1.7</td>\n",
       "      <td>1.6</td>\n",
       "      <td>0.700</td>\n",
       "      <td>11.8</td>\n",
       "      <td>(0.699, 0.799]</td>\n",
       "      <td>(0.099, 5.15]</td>\n",
       "      <td>(5, 12]</td>\n",
       "    </tr>\n",
       "    <tr>\n",
       "      <th>1146</th>\n",
       "      <td>Honduras</td>\n",
       "      <td>2007</td>\n",
       "      <td>Developing</td>\n",
       "      <td>73.0</td>\n",
       "      <td>16.0</td>\n",
       "      <td>5</td>\n",
       "      <td>3.16</td>\n",
       "      <td>222.482334</td>\n",
       "      <td>93.0</td>\n",
       "      <td>0</td>\n",
       "      <td>...</td>\n",
       "      <td>0.7</td>\n",
       "      <td>1592.572182</td>\n",
       "      <td>777972.0</td>\n",
       "      <td>2.4</td>\n",
       "      <td>2.3</td>\n",
       "      <td>0.590</td>\n",
       "      <td>10.9</td>\n",
       "      <td>(0.549, 0.699]</td>\n",
       "      <td>(0.099, 5.15]</td>\n",
       "      <td>(5, 12]</td>\n",
       "    </tr>\n",
       "    <tr>\n",
       "      <th>2754</th>\n",
       "      <td>United Arab Emirates</td>\n",
       "      <td>2007</td>\n",
       "      <td>Developing</td>\n",
       "      <td>75.6</td>\n",
       "      <td>87.0</td>\n",
       "      <td>1</td>\n",
       "      <td>1.69</td>\n",
       "      <td>3759.457226</td>\n",
       "      <td>92.0</td>\n",
       "      <td>0</td>\n",
       "      <td>...</td>\n",
       "      <td>0.1</td>\n",
       "      <td>42672.613230</td>\n",
       "      <td>NaN</td>\n",
       "      <td>5.1</td>\n",
       "      <td>4.9</td>\n",
       "      <td>0.826</td>\n",
       "      <td>12.9</td>\n",
       "      <td>(0.799, 1.0]</td>\n",
       "      <td>(0.099, 5.15]</td>\n",
       "      <td>(12, 19]</td>\n",
       "    </tr>\n",
       "    <tr>\n",
       "      <th>2431</th>\n",
       "      <td>Spain</td>\n",
       "      <td>2009</td>\n",
       "      <td>Developed</td>\n",
       "      <td>81.6</td>\n",
       "      <td>66.0</td>\n",
       "      <td>2</td>\n",
       "      <td>9.99</td>\n",
       "      <td>5047.254058</td>\n",
       "      <td>96.0</td>\n",
       "      <td>41</td>\n",
       "      <td>...</td>\n",
       "      <td>0.1</td>\n",
       "      <td>32333.466100</td>\n",
       "      <td>46362946.0</td>\n",
       "      <td>0.6</td>\n",
       "      <td>0.5</td>\n",
       "      <td>0.858</td>\n",
       "      <td>16.3</td>\n",
       "      <td>(0.799, 1.0]</td>\n",
       "      <td>(0.099, 5.15]</td>\n",
       "      <td>(12, 19]</td>\n",
       "    </tr>\n",
       "    <tr>\n",
       "      <th>2165</th>\n",
       "      <td>Rwanda</td>\n",
       "      <td>2001</td>\n",
       "      <td>Developing</td>\n",
       "      <td>48.6</td>\n",
       "      <td>438.0</td>\n",
       "      <td>33</td>\n",
       "      <td>5.72</td>\n",
       "      <td>0.388254</td>\n",
       "      <td>NaN</td>\n",
       "      <td>896</td>\n",
       "      <td>...</td>\n",
       "      <td>8.1</td>\n",
       "      <td>21.569654</td>\n",
       "      <td>832946.0</td>\n",
       "      <td>7.4</td>\n",
       "      <td>7.5</td>\n",
       "      <td>0.332</td>\n",
       "      <td>7.1</td>\n",
       "      <td>(-0.009, 0.549]</td>\n",
       "      <td>(5.15, 20.0]</td>\n",
       "      <td>(5, 12]</td>\n",
       "    </tr>\n",
       "  </tbody>\n",
       "</table>\n",
       "<p>5 rows × 25 columns</p>\n",
       "</div>"
      ],
      "text/plain": [
       "                                 country  year      status  life_expectancy  \\\n",
       "2868  Venezuela (Bolivarian Republic of)  2005  Developing             73.6   \n",
       "1146                            Honduras  2007  Developing             73.0   \n",
       "2754                United Arab Emirates  2007  Developing             75.6   \n",
       "2431                               Spain  2009   Developed             81.6   \n",
       "2165                              Rwanda  2001  Developing             48.6   \n",
       "\n",
       "      adult_mortality  infant_deaths  alcohol  percentage_exp  hepatitisb  \\\n",
       "2868            158.0              9     7.92        0.000000        88.0   \n",
       "1146             16.0              5     3.16      222.482334        93.0   \n",
       "2754             87.0              1     1.69     3759.457226        92.0   \n",
       "2431             66.0              2     9.99     5047.254058        96.0   \n",
       "2165            438.0             33     5.72        0.388254         NaN   \n",
       "\n",
       "      measles  ...  hiv/aids           gdp  population  thinness_1to19_years  \\\n",
       "2868        0  ...       0.1           NaN         NaN                   1.7   \n",
       "1146        0  ...       0.7   1592.572182    777972.0                   2.4   \n",
       "2754        0  ...       0.1  42672.613230         NaN                   5.1   \n",
       "2431       41  ...       0.1  32333.466100  46362946.0                   0.6   \n",
       "2165      896  ...       8.1     21.569654    832946.0                   7.4   \n",
       "\n",
       "      thinness_5to9_years  income_comp_of_resources  schooling  \\\n",
       "2868                  1.6                     0.700       11.8   \n",
       "1146                  2.3                     0.590       10.9   \n",
       "2754                  4.9                     0.826       12.9   \n",
       "2431                  0.5                     0.858       16.3   \n",
       "2165                  7.5                     0.332        7.1   \n",
       "\n",
       "      income_comp_of_resources_cat   hiv/aids_cat  schooling_cat  \n",
       "2868                (0.699, 0.799]  (0.099, 5.15]        (5, 12]  \n",
       "1146                (0.549, 0.699]  (0.099, 5.15]        (5, 12]  \n",
       "2754                  (0.799, 1.0]  (0.099, 5.15]       (12, 19]  \n",
       "2431                  (0.799, 1.0]  (0.099, 5.15]       (12, 19]  \n",
       "2165               (-0.009, 0.549]   (5.15, 20.0]        (5, 12]  \n",
       "\n",
       "[5 rows x 25 columns]"
      ]
     },
     "execution_count": 338,
     "metadata": {},
     "output_type": "execute_result"
    }
   ],
   "source": [
    "# Re-add the dropped rows\n",
    "train_drop_set, test_drop_set = train_test_split(df_dropped, test_size=test_size, random_state=42)\n",
    "train_set = pd.concat([pre_train_set, train_drop_set])\n",
    "test_set = pd.concat([pre_test_set, test_drop_set])\n",
    "\n",
    "# shuffle the sets\n",
    "train_set = shuffle(train_set, random_state=42)\n",
    "test_set = shuffle(test_set, random_state=42)\n",
    "\n",
    "test_set.head() # oops! forget to drop categorized columns"
   ]
  },
  {
   "cell_type": "code",
   "execution_count": 339,
   "id": "47913b76",
   "metadata": {},
   "outputs": [
    {
     "data": {
      "text/html": [
       "<div>\n",
       "<style scoped>\n",
       "    .dataframe tbody tr th:only-of-type {\n",
       "        vertical-align: middle;\n",
       "    }\n",
       "\n",
       "    .dataframe tbody tr th {\n",
       "        vertical-align: top;\n",
       "    }\n",
       "\n",
       "    .dataframe thead th {\n",
       "        text-align: right;\n",
       "    }\n",
       "</style>\n",
       "<table border=\"1\" class=\"dataframe\">\n",
       "  <thead>\n",
       "    <tr style=\"text-align: right;\">\n",
       "      <th></th>\n",
       "      <th>country</th>\n",
       "      <th>year</th>\n",
       "      <th>status</th>\n",
       "      <th>life_expectancy</th>\n",
       "      <th>adult_mortality</th>\n",
       "      <th>infant_deaths</th>\n",
       "      <th>alcohol</th>\n",
       "      <th>percentage_exp</th>\n",
       "      <th>hepatitisb</th>\n",
       "      <th>measles</th>\n",
       "      <th>...</th>\n",
       "      <th>polio</th>\n",
       "      <th>tot_exp</th>\n",
       "      <th>diphtheria</th>\n",
       "      <th>hiv/aids</th>\n",
       "      <th>gdp</th>\n",
       "      <th>population</th>\n",
       "      <th>thinness_1to19_years</th>\n",
       "      <th>thinness_5to9_years</th>\n",
       "      <th>income_comp_of_resources</th>\n",
       "      <th>schooling</th>\n",
       "    </tr>\n",
       "  </thead>\n",
       "  <tbody>\n",
       "    <tr>\n",
       "      <th>2868</th>\n",
       "      <td>Venezuela (Bolivarian Republic of)</td>\n",
       "      <td>2005</td>\n",
       "      <td>Developing</td>\n",
       "      <td>73.6</td>\n",
       "      <td>158.0</td>\n",
       "      <td>9</td>\n",
       "      <td>7.92</td>\n",
       "      <td>0.000000</td>\n",
       "      <td>88.0</td>\n",
       "      <td>0</td>\n",
       "      <td>...</td>\n",
       "      <td>8.0</td>\n",
       "      <td>4.69</td>\n",
       "      <td>87.0</td>\n",
       "      <td>0.1</td>\n",
       "      <td>NaN</td>\n",
       "      <td>NaN</td>\n",
       "      <td>1.7</td>\n",
       "      <td>1.6</td>\n",
       "      <td>0.700</td>\n",
       "      <td>11.8</td>\n",
       "    </tr>\n",
       "    <tr>\n",
       "      <th>1146</th>\n",
       "      <td>Honduras</td>\n",
       "      <td>2007</td>\n",
       "      <td>Developing</td>\n",
       "      <td>73.0</td>\n",
       "      <td>16.0</td>\n",
       "      <td>5</td>\n",
       "      <td>3.16</td>\n",
       "      <td>222.482334</td>\n",
       "      <td>93.0</td>\n",
       "      <td>0</td>\n",
       "      <td>...</td>\n",
       "      <td>94.0</td>\n",
       "      <td>7.89</td>\n",
       "      <td>94.0</td>\n",
       "      <td>0.7</td>\n",
       "      <td>1592.572182</td>\n",
       "      <td>777972.0</td>\n",
       "      <td>2.4</td>\n",
       "      <td>2.3</td>\n",
       "      <td>0.590</td>\n",
       "      <td>10.9</td>\n",
       "    </tr>\n",
       "    <tr>\n",
       "      <th>2754</th>\n",
       "      <td>United Arab Emirates</td>\n",
       "      <td>2007</td>\n",
       "      <td>Developing</td>\n",
       "      <td>75.6</td>\n",
       "      <td>87.0</td>\n",
       "      <td>1</td>\n",
       "      <td>1.69</td>\n",
       "      <td>3759.457226</td>\n",
       "      <td>92.0</td>\n",
       "      <td>0</td>\n",
       "      <td>...</td>\n",
       "      <td>94.0</td>\n",
       "      <td>2.57</td>\n",
       "      <td>92.0</td>\n",
       "      <td>0.1</td>\n",
       "      <td>42672.613230</td>\n",
       "      <td>NaN</td>\n",
       "      <td>5.1</td>\n",
       "      <td>4.9</td>\n",
       "      <td>0.826</td>\n",
       "      <td>12.9</td>\n",
       "    </tr>\n",
       "    <tr>\n",
       "      <th>2431</th>\n",
       "      <td>Spain</td>\n",
       "      <td>2009</td>\n",
       "      <td>Developed</td>\n",
       "      <td>81.6</td>\n",
       "      <td>66.0</td>\n",
       "      <td>2</td>\n",
       "      <td>9.99</td>\n",
       "      <td>5047.254058</td>\n",
       "      <td>96.0</td>\n",
       "      <td>41</td>\n",
       "      <td>...</td>\n",
       "      <td>96.0</td>\n",
       "      <td>9.52</td>\n",
       "      <td>96.0</td>\n",
       "      <td>0.1</td>\n",
       "      <td>32333.466100</td>\n",
       "      <td>46362946.0</td>\n",
       "      <td>0.6</td>\n",
       "      <td>0.5</td>\n",
       "      <td>0.858</td>\n",
       "      <td>16.3</td>\n",
       "    </tr>\n",
       "    <tr>\n",
       "      <th>2165</th>\n",
       "      <td>Rwanda</td>\n",
       "      <td>2001</td>\n",
       "      <td>Developing</td>\n",
       "      <td>48.6</td>\n",
       "      <td>438.0</td>\n",
       "      <td>33</td>\n",
       "      <td>5.72</td>\n",
       "      <td>0.388254</td>\n",
       "      <td>NaN</td>\n",
       "      <td>896</td>\n",
       "      <td>...</td>\n",
       "      <td>76.0</td>\n",
       "      <td>4.38</td>\n",
       "      <td>77.0</td>\n",
       "      <td>8.1</td>\n",
       "      <td>21.569654</td>\n",
       "      <td>832946.0</td>\n",
       "      <td>7.4</td>\n",
       "      <td>7.5</td>\n",
       "      <td>0.332</td>\n",
       "      <td>7.1</td>\n",
       "    </tr>\n",
       "  </tbody>\n",
       "</table>\n",
       "<p>5 rows × 22 columns</p>\n",
       "</div>"
      ],
      "text/plain": [
       "                                 country  year      status  life_expectancy  \\\n",
       "2868  Venezuela (Bolivarian Republic of)  2005  Developing             73.6   \n",
       "1146                            Honduras  2007  Developing             73.0   \n",
       "2754                United Arab Emirates  2007  Developing             75.6   \n",
       "2431                               Spain  2009   Developed             81.6   \n",
       "2165                              Rwanda  2001  Developing             48.6   \n",
       "\n",
       "      adult_mortality  infant_deaths  alcohol  percentage_exp  hepatitisb  \\\n",
       "2868            158.0              9     7.92        0.000000        88.0   \n",
       "1146             16.0              5     3.16      222.482334        93.0   \n",
       "2754             87.0              1     1.69     3759.457226        92.0   \n",
       "2431             66.0              2     9.99     5047.254058        96.0   \n",
       "2165            438.0             33     5.72        0.388254         NaN   \n",
       "\n",
       "      measles  ...  polio  tot_exp  diphtheria  hiv/aids           gdp  \\\n",
       "2868        0  ...    8.0     4.69        87.0       0.1           NaN   \n",
       "1146        0  ...   94.0     7.89        94.0       0.7   1592.572182   \n",
       "2754        0  ...   94.0     2.57        92.0       0.1  42672.613230   \n",
       "2431       41  ...   96.0     9.52        96.0       0.1  32333.466100   \n",
       "2165      896  ...   76.0     4.38        77.0       8.1     21.569654   \n",
       "\n",
       "      population  thinness_1to19_years  thinness_5to9_years  \\\n",
       "2868         NaN                   1.7                  1.6   \n",
       "1146    777972.0                   2.4                  2.3   \n",
       "2754         NaN                   5.1                  4.9   \n",
       "2431  46362946.0                   0.6                  0.5   \n",
       "2165    832946.0                   7.4                  7.5   \n",
       "\n",
       "      income_comp_of_resources  schooling  \n",
       "2868                     0.700       11.8  \n",
       "1146                     0.590       10.9  \n",
       "2754                     0.826       12.9  \n",
       "2431                     0.858       16.3  \n",
       "2165                     0.332        7.1  \n",
       "\n",
       "[5 rows x 22 columns]"
      ]
     },
     "execution_count": 339,
     "metadata": {},
     "output_type": "execute_result"
    }
   ],
   "source": [
    "# Drop categorized columns\n",
    "train_set.drop(columns=[\"income_comp_of_resources_cat\", \"schooling_cat\", \"hiv/aids_cat\"], inplace=True)\n",
    "test_set.drop(columns=[\"income_comp_of_resources_cat\", \"schooling_cat\", \"hiv/aids_cat\"], inplace=True)\n",
    "test_set.head()"
   ]
  },
  {
   "cell_type": "code",
   "execution_count": 340,
   "id": "aca7dcf8",
   "metadata": {},
   "outputs": [
    {
     "data": {
      "text/html": [
       "<div>\n",
       "<style scoped>\n",
       "    .dataframe tbody tr th:only-of-type {\n",
       "        vertical-align: middle;\n",
       "    }\n",
       "\n",
       "    .dataframe tbody tr th {\n",
       "        vertical-align: top;\n",
       "    }\n",
       "\n",
       "    .dataframe thead th {\n",
       "        text-align: right;\n",
       "    }\n",
       "</style>\n",
       "<table border=\"1\" class=\"dataframe\">\n",
       "  <thead>\n",
       "    <tr style=\"text-align: right;\">\n",
       "      <th></th>\n",
       "      <th>Overall</th>\n",
       "      <th>Stratified</th>\n",
       "      <th>Strat. %error</th>\n",
       "    </tr>\n",
       "  </thead>\n",
       "  <tbody>\n",
       "    <tr>\n",
       "      <th>Developed</th>\n",
       "      <td>0.174863</td>\n",
       "      <td>0.173497</td>\n",
       "      <td>-0.781250</td>\n",
       "    </tr>\n",
       "    <tr>\n",
       "      <th>Developing</th>\n",
       "      <td>0.825137</td>\n",
       "      <td>0.826503</td>\n",
       "      <td>0.165563</td>\n",
       "    </tr>\n",
       "  </tbody>\n",
       "</table>\n",
       "</div>"
      ],
      "text/plain": [
       "             Overall  Stratified  Strat. %error\n",
       "Developed   0.174863    0.173497      -0.781250\n",
       "Developing  0.825137    0.826503       0.165563"
      ]
     },
     "execution_count": 340,
     "metadata": {},
     "output_type": "execute_result"
    }
   ],
   "source": [
    "# Check whether the proportions of status on the whole data and test set are close\n",
    "def status_proportion(df):\n",
    "    return df[\"status\"].value_counts() / len(df)\n",
    "\n",
    "compare_props = pd.DataFrame({\n",
    "    \"Overall\": status_proportion(df_origin),\n",
    "    \"Stratified\": status_proportion(test_set)\n",
    "}).sort_index()\n",
    "\n",
    "compare_props[\"Strat. %error\"] = 100 * compare_props[\"Stratified\"] / compare_props[\"Overall\"] - 100\n",
    "compare_props # good! :>"
   ]
  },
  {
   "cell_type": "markdown",
   "id": "2d66acd0",
   "metadata": {},
   "source": [
    "**Note:** Forget the `test_set` from now on! Bring it back till we find a good model."
   ]
  },
  {
   "cell_type": "markdown",
   "id": "6ecc63b5",
   "metadata": {},
   "source": [
    "# 3. Preprocessing"
   ]
  },
  {
   "cell_type": "markdown",
   "id": "c1f96c39",
   "metadata": {},
   "source": [
    "**Note:** Two categorical columns, `country`, `year` and `status`, have indices which are 0, 1 and 2. This is for the later work with `numpy` if needed."
   ]
  },
  {
   "cell_type": "code",
   "execution_count": 341,
   "id": "df4ee097",
   "metadata": {},
   "outputs": [],
   "source": [
    "# Separate features and labels\n",
    "X = train_set.drop(columns=[\"life_expectancy\"])\n",
    "y = train_set[\"life_expectancy\"].copy()"
   ]
  },
  {
   "cell_type": "code",
   "execution_count": 342,
   "id": "b9af08e8",
   "metadata": {},
   "outputs": [],
   "source": [
    "# Seperate numeric columns and categorical columns\n",
    "num_attrbs = X.drop([\"status\", \"country\"], axis=1).columns.tolist()\n",
    "cat_attrbs = [\"status\", \"country\"]\n",
    "attrbs = X.columns.tolist()"
   ]
  },
  {
   "cell_type": "markdown",
   "id": "730d9d5a",
   "metadata": {},
   "source": [
    "**Suggestion:** May need to customize some transformers!"
   ]
  },
  {
   "cell_type": "markdown",
   "id": "c442593d",
   "metadata": {},
   "source": [
    "## 3.1. Imputer"
   ]
  },
  {
   "cell_type": "markdown",
   "id": "58011be4",
   "metadata": {},
   "source": [
    "### 3.1.1. Interpolation Imputer (Optional)"
   ]
  },
  {
   "cell_type": "code",
   "execution_count": 289,
   "id": "86426f79",
   "metadata": {},
   "outputs": [],
   "source": [
    "# Build a transformer class - interpolation imputer (by country)\n",
    "class GroupInterpImputer(BaseEstimator, TransformerMixin):\n",
    "    '''Transformer that treats NaN of a group using linear interpolation method\n",
    "    '''\n",
    "    \n",
    "    def __init__(self, groupby=\"country\",):\n",
    "        self.groupby = groupby\n",
    "    \n",
    "    def fit(self, X, y=None): \n",
    "        return self # nothing to do\n",
    "    \n",
    "    \n",
    "    def transform(self, X): # pd.DataFrame\n",
    "        df = copy.deepcopy(X)\n",
    "        \n",
    "        num_attrbs = df.drop(df.columns[[0, 2]], axis=1).columns.tolist()\n",
    "        \n",
    "        for country in df.country.unique().tolist():\n",
    "            df.loc[df[self.groupby]==country, num_attrbs] = df.loc[df[self.groupby]==country, num_attrbs].sort_values(by=[\"year\"]).interpolate(axis=1)\n",
    "            \n",
    "        return df"
   ]
  },
  {
   "cell_type": "code",
   "execution_count": 290,
   "id": "60c10600",
   "metadata": {},
   "outputs": [
    {
     "data": {
      "text/plain": [
       "country                     0\n",
       "year                        0\n",
       "status                      0\n",
       "life_expectancy             0\n",
       "adult_mortality             0\n",
       "infant_deaths               0\n",
       "alcohol                     0\n",
       "percentage_exp              0\n",
       "hepatitisb                  0\n",
       "measles                     0\n",
       "bmi                         0\n",
       "under_five_deaths           0\n",
       "polio                       0\n",
       "tot_exp                     0\n",
       "diphtheria                  0\n",
       "hiv/aids                    0\n",
       "gdp                         0\n",
       "population                  0\n",
       "thinness_1to19_years        0\n",
       "thinness_5to9_years         0\n",
       "income_comp_of_resources    0\n",
       "schooling                   0\n",
       "dtype: int64"
      ]
     },
     "execution_count": 290,
     "metadata": {},
     "output_type": "execute_result"
    }
   ],
   "source": [
    "# Test the new transformer\n",
    "interp_imputer = GroupInterpImputer()\n",
    "imputer_tester = copy.deepcopy(train_set)\n",
    "interp_imputer.transform(imputer_tester).isnull().sum() # pd.DataFrame"
   ]
  },
  {
   "cell_type": "markdown",
   "id": "b5f9bca0",
   "metadata": {},
   "source": [
    "### 3.1.2. Simple Imputers by an Atrribute"
   ]
  },
  {
   "cell_type": "code",
   "execution_count": 74,
   "id": "af298299",
   "metadata": {},
   "outputs": [],
   "source": [
    "class AttrbBasedImputer(BaseEstimator, TransformerMixin):\n",
    "    '''Impute missing values for each attribute\n",
    "    '''\n",
    "    \n",
    "    def __init__(self, attrib=\"country\", strategy=\"mean\"):\n",
    "        self.attrib = attrib\n",
    "        self.strategy = strategy\n",
    "    \n",
    "    def fit(self, X, y=None):\n",
    "        df = copy.deepcopy(X)\n",
    "        num_attrbs = df.drop(df.columns[[0, 2]], axis=1).columns.tolist()\n",
    "        \n",
    "        self.statistics_ = {}\n",
    "        for group in df[self.attrib].unique().tolist():\n",
    "            imp_group = SimpleImputer(strategy=self.strategy)\n",
    "            imp_group.fit(df.loc[df[self.attrib]==group, num_attrbs])\n",
    "            self.statistics_[group] = imp_group.statistics_\n",
    "        \n",
    "        return self\n",
    "    \n",
    "    def transform(self, X):\n",
    "        df = copy.deepcopy(X)\n",
    "        num_attrbs = df.drop(df.columns[[0, 2]], axis=1).columns.tolist() # base\n",
    "        \n",
    "        for group in df[self.attrib].unique().tolist():\n",
    "            df.loc[X[self.attrib]==group, num_attrbs] = self.statistics_[group]\n",
    "        \n",
    "        return df"
   ]
  },
  {
   "cell_type": "markdown",
   "id": "60bcba8a",
   "metadata": {},
   "source": [
    "**Note:** The pipeline flow is:\n",
    "\n",
    "imputer -> feature engineer (optional) -> scaler/one-hot -> outlier detector -> clusterer (optional) -> model"
   ]
  },
  {
   "cell_type": "markdown",
   "id": "a6fb4527",
   "metadata": {},
   "source": [
    "## 3.2. Feature Engineering"
   ]
  },
  {
   "cell_type": "markdown",
   "id": "5782c133",
   "metadata": {},
   "source": [
    "**Note:** This section can be a large workload. However, right now just transform `country` to some relevant features or drop it."
   ]
  },
  {
   "cell_type": "markdown",
   "id": "aa1a26b7",
   "metadata": {},
   "source": [
    "### 3.2.1. Country to Continent"
   ]
  },
  {
   "cell_type": "code",
   "execution_count": 291,
   "id": "a819d45d",
   "metadata": {},
   "outputs": [
    {
     "data": {
      "text/plain": [
       "{'Afghanistan': 'Asia',\n",
       " 'Albania': 'Europe',\n",
       " 'Algeria': 'Africa',\n",
       " 'Angola': 'Africa',\n",
       " 'Antigua and Barbuda': 'Americas',\n",
       " 'Argentina': 'Americas',\n",
       " 'Armenia': 'Asia',\n",
       " 'Australia': 'Oceania',\n",
       " 'Austria': 'Europe',\n",
       " 'Azerbaijan': 'Asia',\n",
       " 'Bahamas': 'Americas',\n",
       " 'Bahrain': 'Asia',\n",
       " 'Bangladesh': 'Asia',\n",
       " 'Barbados': 'Americas',\n",
       " 'Belarus': 'Europe',\n",
       " 'Belgium': 'Europe',\n",
       " 'Belize': 'Americas',\n",
       " 'Benin': 'Africa',\n",
       " 'Bhutan': 'Asia',\n",
       " 'Bolivia (Plurinational State of)': 'Americas',\n",
       " 'Bosnia and Herzegovina': 'Europe',\n",
       " 'Botswana': 'Africa',\n",
       " 'Brazil': 'Americas',\n",
       " 'Brunei Darussalam': 'Asia',\n",
       " 'Bulgaria': 'Europe',\n",
       " 'Burkina Faso': 'Africa',\n",
       " 'Burundi': 'Africa',\n",
       " \"Côte d'Ivoire\": 'Africa',\n",
       " 'Cabo Verde': 'Africa',\n",
       " 'Cambodia': 'Asia',\n",
       " 'Cameroon': 'Africa',\n",
       " 'Canada': 'Americas',\n",
       " 'Central African Republic': 'Africa',\n",
       " 'Chad': 'Africa',\n",
       " 'Chile': 'Americas',\n",
       " 'China': 'Asia',\n",
       " 'Colombia': 'Americas',\n",
       " 'Comoros': 'Africa',\n",
       " 'Congo': 'Africa',\n",
       " 'Costa Rica': 'Americas',\n",
       " 'Croatia': 'Europe',\n",
       " 'Cuba': 'Americas',\n",
       " 'Cyprus': 'Asia',\n",
       " 'Czechia': 'Europe',\n",
       " \"Democratic People's Republic of Korea\": 'Asia',\n",
       " 'Democratic Republic of the Congo': 'Africa',\n",
       " 'Denmark': 'Europe',\n",
       " 'Djibouti': 'Africa',\n",
       " 'Dominican Republic': 'Americas',\n",
       " 'Ecuador': 'Americas',\n",
       " 'Egypt': 'Africa',\n",
       " 'El Salvador': 'Americas',\n",
       " 'Equatorial Guinea': 'Africa',\n",
       " 'Eritrea': 'Africa',\n",
       " 'Estonia': 'Europe',\n",
       " 'Ethiopia': 'Africa',\n",
       " 'Fiji': 'Oceania',\n",
       " 'Finland': 'Europe',\n",
       " 'France': 'Europe',\n",
       " 'Gabon': 'Africa',\n",
       " 'Gambia': 'Africa',\n",
       " 'Georgia': 'Asia',\n",
       " 'Germany': 'Europe',\n",
       " 'Ghana': 'Africa',\n",
       " 'Greece': 'Europe',\n",
       " 'Grenada': 'Americas',\n",
       " 'Guatemala': 'Americas',\n",
       " 'Guinea': 'Africa',\n",
       " 'Guinea-Bissau': 'Africa',\n",
       " 'Guyana': 'Americas',\n",
       " 'Haiti': 'Americas',\n",
       " 'Honduras': 'Americas',\n",
       " 'Hungary': 'Europe',\n",
       " 'Iceland': 'Europe',\n",
       " 'India': 'Asia',\n",
       " 'Indonesia': 'Asia',\n",
       " 'Iran (Islamic Republic of)': 'Asia',\n",
       " 'Iraq': 'Asia',\n",
       " 'Ireland': 'Europe',\n",
       " 'Israel': 'Asia',\n",
       " 'Italy': 'Europe',\n",
       " 'Jamaica': 'Americas',\n",
       " 'Japan': 'Asia',\n",
       " 'Jordan': 'Asia',\n",
       " 'Kazakhstan': 'Asia',\n",
       " 'Kenya': 'Africa',\n",
       " 'Kiribati': 'Oceania',\n",
       " 'Kuwait': 'Asia',\n",
       " 'Kyrgyzstan': 'Asia',\n",
       " \"Lao People's Democratic Republic\": 'Asia',\n",
       " 'Latvia': 'Europe',\n",
       " 'Lebanon': 'Asia',\n",
       " 'Lesotho': 'Africa',\n",
       " 'Liberia': 'Africa',\n",
       " 'Libya': 'Africa',\n",
       " 'Lithuania': 'Europe',\n",
       " 'Luxembourg': 'Europe',\n",
       " 'Madagascar': 'Africa',\n",
       " 'Malawi': 'Africa',\n",
       " 'Malaysia': 'Asia',\n",
       " 'Maldives': 'Asia',\n",
       " 'Mali': 'Africa',\n",
       " 'Malta': 'Europe',\n",
       " 'Mauritania': 'Africa',\n",
       " 'Mauritius': 'Africa',\n",
       " 'Mexico': 'Americas',\n",
       " 'Micronesia (Federated States of)': 'Oceania',\n",
       " 'Mongolia': 'Asia',\n",
       " 'Montenegro': 'Europe',\n",
       " 'Morocco': 'Africa',\n",
       " 'Mozambique': 'Africa',\n",
       " 'Myanmar': 'Asia',\n",
       " 'Namibia': 'Africa',\n",
       " 'Nepal': 'Asia',\n",
       " 'Netherlands': 'Europe',\n",
       " 'New Zealand': 'Oceania',\n",
       " 'Nicaragua': 'Americas',\n",
       " 'Niger': 'Africa',\n",
       " 'Nigeria': 'Africa',\n",
       " 'Norway': 'Europe',\n",
       " 'Oman': 'Asia',\n",
       " 'Pakistan': 'Asia',\n",
       " 'Panama': 'Americas',\n",
       " 'Papua New Guinea': 'Oceania',\n",
       " 'Paraguay': 'Americas',\n",
       " 'Peru': 'Americas',\n",
       " 'Philippines': 'Asia',\n",
       " 'Poland': 'Europe',\n",
       " 'Portugal': 'Europe',\n",
       " 'Qatar': 'Asia',\n",
       " 'Republic of Korea': 'Asia',\n",
       " 'Republic of Moldova': 'Europe',\n",
       " 'Romania': 'Europe',\n",
       " 'Russian Federation': 'Europe',\n",
       " 'Rwanda': 'Africa',\n",
       " 'Saint Lucia': 'Americas',\n",
       " 'Saint Vincent and the Grenadines': 'Americas',\n",
       " 'Samoa': 'Oceania',\n",
       " 'Sao Tome and Principe': 'Africa',\n",
       " 'Saudi Arabia': 'Asia',\n",
       " 'Senegal': 'Africa',\n",
       " 'Serbia': 'Europe',\n",
       " 'Seychelles': 'Africa',\n",
       " 'Sierra Leone': 'Africa',\n",
       " 'Singapore': 'Asia',\n",
       " 'Slovakia': 'Europe',\n",
       " 'Slovenia': 'Europe',\n",
       " 'Solomon Islands': 'Oceania',\n",
       " 'Somalia': 'Africa',\n",
       " 'South Africa': 'Africa',\n",
       " 'South Sudan': 'Africa',\n",
       " 'Spain': 'Europe',\n",
       " 'Sri Lanka': 'Asia',\n",
       " 'Sudan': 'Africa',\n",
       " 'Suriname': 'Americas',\n",
       " 'Swaziland': 'Africa',\n",
       " 'Sweden': 'Europe',\n",
       " 'Switzerland': 'Europe',\n",
       " 'Syrian Arab Republic': 'Asia',\n",
       " 'Tajikistan': 'Asia',\n",
       " 'Thailand': 'Asia',\n",
       " 'The former Yugoslav republic of Macedonia': 'Europe',\n",
       " 'Timor-Leste': 'Asia',\n",
       " 'Togo': 'Africa',\n",
       " 'Tonga': 'Oceania',\n",
       " 'Trinidad and Tobago': 'Americas',\n",
       " 'Tunisia': 'Africa',\n",
       " 'Turkey': 'Asia',\n",
       " 'Turkmenistan': 'Asia',\n",
       " 'Uganda': 'Africa',\n",
       " 'Ukraine': 'Europe',\n",
       " 'United Arab Emirates': 'Asia',\n",
       " 'United Kingdom of Great Britain and Northern Ireland': 'Europe',\n",
       " 'United Republic of Tanzania': 'Africa',\n",
       " 'United States of America': 'Americas',\n",
       " 'Uruguay': 'Americas',\n",
       " 'Uzbekistan': 'Asia',\n",
       " 'Vanuatu': 'Oceania',\n",
       " 'Venezuela (Bolivarian Republic of)': 'Americas',\n",
       " 'Viet Nam': 'Asia',\n",
       " 'Yemen': 'Asia',\n",
       " 'Zambia': 'Africa',\n",
       " 'Zimbabwe': 'Africa'}"
      ]
     },
     "execution_count": 291,
     "metadata": {},
     "output_type": "execute_result"
    }
   ],
   "source": [
    "# Load into JSON file for later usage\n",
    "with open(\"dataset\\continent.json\", \"r\") as f:\n",
    "    country_continent = json.load(f)\n",
    "\n",
    "country_continent"
   ]
  },
  {
   "cell_type": "code",
   "execution_count": 292,
   "id": "eb815d80",
   "metadata": {},
   "outputs": [],
   "source": [
    "# Build a transformer - convert country to continent\n",
    "class ContinentConverter(BaseEstimator, TransformerMixin):\n",
    "    '''Transformer that replaces country with continent\n",
    "    '''\n",
    "    \n",
    "    def __init__(self, continent=country_continent):\n",
    "        self.continent = continent\n",
    "    \n",
    "    def fit(self, X, y=None):\n",
    "        return self\n",
    "        \n",
    "    def transform(self, X): # np.array\n",
    "        df = copy.deepcopy(X)\n",
    "        for i in df.index:\n",
    "            df.loc[i, \"country\"] = self.continent.get(df.loc[i, \"country\"], \"Unknown\")\n",
    "        return df"
   ]
  },
  {
   "cell_type": "code",
   "execution_count": 294,
   "id": "0b8d2e31",
   "metadata": {},
   "outputs": [
    {
     "data": {
      "text/plain": [
       "country                     0\n",
       "year                        0\n",
       "status                      0\n",
       "adult_mortality             0\n",
       "infant_deaths               0\n",
       "alcohol                     0\n",
       "percentage_exp              0\n",
       "hepatitisb                  0\n",
       "measles                     0\n",
       "bmi                         0\n",
       "under_five_deaths           0\n",
       "polio                       0\n",
       "tot_exp                     0\n",
       "diphtheria                  0\n",
       "hiv/aids                    0\n",
       "gdp                         0\n",
       "population                  0\n",
       "thinness_1to19_years        0\n",
       "thinness_5to9_years         0\n",
       "income_comp_of_resources    0\n",
       "schooling                   0\n",
       "dtype: int64"
      ]
     },
     "execution_count": 294,
     "metadata": {},
     "output_type": "execute_result"
    }
   ],
   "source": [
    "# Test the new transformer\n",
    "_pipeline1 = Pipeline([\n",
    "        (\"intern_imputer\", GroupInterpImputer()),\n",
    "        (\"continent_converter\", ContinentConverter())\n",
    "    ])\n",
    "X_transformed = _pipeline1.fit_transform(X)\n",
    "X_transformed.isnull().sum() # no null"
   ]
  },
  {
   "cell_type": "markdown",
   "id": "fe6f03e8",
   "metadata": {},
   "source": [
    "## 3.3. Feature Scaling and Text Handling"
   ]
  },
  {
   "cell_type": "code",
   "execution_count": 295,
   "id": "5c33a140",
   "metadata": {},
   "outputs": [
    {
     "data": {
      "text/plain": [
       "array([[-0.76476795,  0.40158706, -0.25556559, ...,  0.        ,\n",
       "         0.        ,  0.        ],\n",
       "       [-0.11180122, -0.53186527, -0.18124577, ...,  1.        ,\n",
       "         0.        ,  0.        ],\n",
       "       [-0.3294568 , -1.19745737, -0.23079232, ...,  0.        ,\n",
       "         0.        ,  0.        ],\n",
       "       ...,\n",
       "       [ 1.4117878 , -0.1016655 , -0.18950353, ...,  1.        ,\n",
       "         0.        ,  0.        ],\n",
       "       [ 0.5411655 , -1.03511784,  0.18209561, ...,  0.        ,\n",
       "         0.        ,  0.        ],\n",
       "       [-0.76476795, -0.71043876, -0.23905008, ...,  0.        ,\n",
       "         0.        ,  0.        ]])"
      ]
     },
     "execution_count": 295,
     "metadata": {},
     "output_type": "execute_result"
    }
   ],
   "source": [
    "# Compose scaling and one-hot encoder of the pipeline\n",
    "_standardizer = ColumnTransformer([\n",
    "    (\"standard_scaler\", StandardScaler(), num_attrbs),\n",
    "    (\"onehot_encoder\", OneHotEncoder(), cat_attrbs)\n",
    "])\n",
    "\n",
    "_pipeline2 = Pipeline([\n",
    "        (\"intern_imputer\", GroupInterpImputer()),\n",
    "        (\"continent_converter\", ContinentConverter()),\n",
    "        (\"standardizer\", _standardizer)\n",
    "    ])\n",
    "\n",
    "X_transformed = _pipeline2.fit_transform(X)\n",
    "X_transformed"
   ]
  },
  {
   "cell_type": "markdown",
   "id": "8d68430d",
   "metadata": {},
   "source": [
    "## 3.4. Outlier Detection and Removal (Optional)"
   ]
  },
  {
   "cell_type": "markdown",
   "id": "b7d2e004",
   "metadata": {},
   "source": [
    "**Caution:** It is now disable across the system due to the unexpected negative impacts on the whole performance."
   ]
  },
  {
   "cell_type": "code",
   "execution_count": 27,
   "id": "4f586bde",
   "metadata": {},
   "outputs": [],
   "source": [
    "# Build a transformer - remove outliers using DBSCAN\n",
    "class OutlierRemover(BaseEstimator, TransformerMixin):\n",
    "    \n",
    "    def __init__(self, eps=0.5, min_samples=5):\n",
    "        self.eps = eps\n",
    "        self.min_samples = min_samples\n",
    "        self.dbscan = DBSCAN(eps=self.eps, min_samples=self.min_samples)\n",
    "    \n",
    "    def fit(self, X, y=None):\n",
    "        return self\n",
    "    \n",
    "    def transform(self, X):\n",
    "        pass # nothing else to do\n",
    "    \n",
    "    def fit_transform(self, X, y=None):\n",
    "        y = y.to_numpy()\n",
    "        self.dbscan.fit(X)\n",
    "        self.labels_ = self.dbscan.labels_\n",
    "        self.components_ = self.dbscan.components_\n",
    "        self.core_sample_indices_ = self.dbscan.core_sample_indices_\n",
    "        \n",
    "        inlier_indices = [ix for ix in range(len(self.labels_)) if self.labels_[ix] != -1]\n",
    "        return X[inlier_indices], y[inlier_indices]"
   ]
  },
  {
   "cell_type": "code",
   "execution_count": 28,
   "id": "eb8ce71e",
   "metadata": {},
   "outputs": [
    {
     "data": {
      "text/plain": [
       "array([[-0.76476795,  0.40158706, -0.25556559, ...,  0.        ,\n",
       "         0.        ,  0.        ],\n",
       "       [-0.11180122, -0.53186527, -0.18124577, ...,  1.        ,\n",
       "         0.        ,  0.        ],\n",
       "       [-0.3294568 , -1.19745737, -0.23079232, ...,  0.        ,\n",
       "         0.        ,  0.        ],\n",
       "       ...,\n",
       "       [ 1.19413222, -0.35329178, -0.2142768 , ...,  1.        ,\n",
       "         0.        ,  0.        ],\n",
       "       [ 0.5411655 , -1.03511784,  0.18209561, ...,  0.        ,\n",
       "         0.        ,  0.        ],\n",
       "       [-0.76476795, -0.71043876, -0.23905008, ...,  0.        ,\n",
       "         0.        ,  0.        ]])"
      ]
     },
     "execution_count": 28,
     "metadata": {},
     "output_type": "execute_result"
    }
   ],
   "source": [
    "# Test the new transformer\n",
    "_pipeline3 = Pipeline([\n",
    "        (\"interp_imputer\", GroupInterpImputer()),\n",
    "        (\"continent_converter\", ContinentConverter()),\n",
    "        (\"standardizer\", _standardizer),\n",
    "        (\"outlier_remover\", OutlierRemover(eps=0.98, min_samples=3))\n",
    "    ])\n",
    "\n",
    "X_transformed, y_transformed = _pipeline3.fit_transform(X, y)\n",
    "X_transformed"
   ]
  },
  {
   "cell_type": "code",
   "execution_count": 29,
   "id": "4ac1db1c",
   "metadata": {},
   "outputs": [
    {
     "data": {
      "text/plain": [
       "(1691, 26)"
      ]
     },
     "execution_count": 29,
     "metadata": {},
     "output_type": "execute_result"
    }
   ],
   "source": [
    "# Check the number of inliers\n",
    "X_transformed.shape"
   ]
  },
  {
   "cell_type": "markdown",
   "id": "f8c15bba",
   "metadata": {},
   "source": [
    "## 3.4. Preprocessing Pipeline and Preprocessed Data"
   ]
  },
  {
   "cell_type": "code",
   "execution_count": 296,
   "id": "1913fc3a",
   "metadata": {},
   "outputs": [],
   "source": [
    "# Setup preprocessor pipeline\n",
    "standardizer = ColumnTransformer([\n",
    "    (\"standard_scaler\", StandardScaler(), num_attrbs),\n",
    "    (\"onehot_encoder\", OneHotEncoder(), cat_attrbs)\n",
    "])\n",
    "\n",
    "# pre-processing pipeline for training\n",
    "preprocessor = Pipeline([\n",
    "        (\"intern_imputer\", GroupInterpImputer()),\n",
    "        (\"continent_converter\", ContinentConverter()),\n",
    "        (\"standardizer\", standardizer) # disable dbscan\n",
    "    ])\n",
    "\n",
    "# pre-processing pipeline for testing\n",
    "test_preprocessor = Pipeline([\n",
    "        (\"intern_imputer\", GroupInterpImputer()),\n",
    "        (\"continent_converter\", ContinentConverter()),\n",
    "        (\"standardizer\", standardizer)\n",
    "    ])"
   ]
  },
  {
   "cell_type": "code",
   "execution_count": 297,
   "id": "09bd183a",
   "metadata": {},
   "outputs": [
    {
     "data": {
      "text/plain": [
       "array([[-0.76476795,  0.40158706, -0.25556559, ...,  0.        ,\n",
       "         0.        ,  0.        ],\n",
       "       [-0.11180122, -0.53186527, -0.18124577, ...,  1.        ,\n",
       "         0.        ,  0.        ],\n",
       "       [-0.3294568 , -1.19745737, -0.23079232, ...,  0.        ,\n",
       "         0.        ,  0.        ],\n",
       "       ...,\n",
       "       [ 1.4117878 , -0.1016655 , -0.18950353, ...,  1.        ,\n",
       "         0.        ,  0.        ],\n",
       "       [ 0.5411655 , -1.03511784,  0.18209561, ...,  0.        ,\n",
       "         0.        ,  0.        ],\n",
       "       [-0.76476795, -0.71043876, -0.23905008, ...,  0.        ,\n",
       "         0.        ,  0.        ]])"
      ]
     },
     "execution_count": 297,
     "metadata": {},
     "output_type": "execute_result"
    }
   ],
   "source": [
    "# Get preprocessed data\n",
    "X_prep = preprocessor.fit_transform(X)\n",
    "y_prep = y\n",
    "X_prep"
   ]
  },
  {
   "cell_type": "markdown",
   "id": "66d0dcb4",
   "metadata": {},
   "source": [
    "# 4. Select and Train Models "
   ]
  },
  {
   "cell_type": "markdown",
   "id": "134ca9eb",
   "metadata": {},
   "source": [
    "**Note:** In the first approach, we only use linear-relevant models such as SVM, Linear Regression and so on."
   ]
  },
  {
   "cell_type": "code",
   "execution_count": 298,
   "id": "7f94c61d",
   "metadata": {},
   "outputs": [],
   "source": [
    "# Show RMSE of a model\n",
    "def root_mean_squared_error(y, y_hat):\n",
    "    mse = mean_squared_error(y, y_hat)\n",
    "    rmse = np.sqrt(mse)\n",
    "    return rmse"
   ]
  },
  {
   "cell_type": "code",
   "execution_count": 299,
   "id": "8424c416",
   "metadata": {},
   "outputs": [],
   "source": [
    "# Show the score of cross validation\n",
    "def display_scores(scores):\n",
    "    print(\"Scores:\", scores)\n",
    "    print(\"Mean:\", scores.mean())\n",
    "    print(\"Standard deviation:\", scores.std())"
   ]
  },
  {
   "cell_type": "markdown",
   "id": "2b53cae7",
   "metadata": {},
   "source": [
    "## 4.1. Linear Regression"
   ]
  },
  {
   "cell_type": "code",
   "execution_count": 300,
   "id": "2e6d1274",
   "metadata": {},
   "outputs": [
    {
     "data": {
      "text/plain": [
       "LinearRegression()"
      ]
     },
     "execution_count": 300,
     "metadata": {},
     "output_type": "execute_result"
    }
   ],
   "source": [
    "# Train a model\n",
    "lin_reg = LinearRegression()\n",
    "lin_reg.fit(X_prep, y_prep)"
   ]
  },
  {
   "cell_type": "code",
   "execution_count": 301,
   "id": "2efd8f6a",
   "metadata": {},
   "outputs": [
    {
     "data": {
      "text/plain": [
       "4.025442305434387"
      ]
     },
     "execution_count": 301,
     "metadata": {},
     "output_type": "execute_result"
    }
   ],
   "source": [
    "# Evaluate the training\n",
    "root_mean_squared_error(y_prep, lin_reg.predict(X_prep))"
   ]
  },
  {
   "cell_type": "code",
   "execution_count": 302,
   "id": "5b9cfd2e",
   "metadata": {},
   "outputs": [
    {
     "name": "stdout",
     "output_type": "stream",
     "text": [
      "Scores: [4.10500811 3.81847688 3.4580502  4.40698856 3.98350413 4.29550662\n",
      " 3.70116329 4.23798102 4.32449396 4.27712182]\n",
      "Mean: 4.0608294594022185\n",
      "Standard deviation: 0.2969767396470817\n"
     ]
    }
   ],
   "source": [
    "# K-fold cross validation on the model\n",
    "scores = np.sqrt(-cross_val_score(lin_reg, X_prep, y_prep, scoring=\"neg_mean_squared_error\", cv=10))\n",
    "display_scores(scores)"
   ]
  },
  {
   "cell_type": "markdown",
   "id": "1dbad75e",
   "metadata": {},
   "source": [
    "## 4.2. Clustered Linear Regression"
   ]
  },
  {
   "cell_type": "code",
   "execution_count": 306,
   "id": "a605177a",
   "metadata": {},
   "outputs": [],
   "source": [
    "# Build a model of clustered Linear Regressions on clusters of K-Means\n",
    "class ClusteredLinearRegression(BaseEstimator, TransformerMixin):\n",
    "    \n",
    "    def __init__(self, \n",
    "                 clusterer=KMeans(n_clusters=4, random_state=42), \n",
    "                 estimator=ElasticNet(alpha=0), \n",
    "                 classifier=None):\n",
    "        \n",
    "        self.clusterer = clusterer\n",
    "        self.estimator = estimator\n",
    "        self.classifier = classifier # if the clusterer cannot predict for the new instances\n",
    "       \n",
    "    def fit(self, X, y=None):\n",
    "        # cluster the data\n",
    "        self.clusterer.fit(X)\n",
    "        \n",
    "        # fit the data of each cluster using a elastic net\n",
    "        lin_regs = {}\n",
    "        clusters = np.unique(self.clusterer.labels_)\n",
    "        for cluster in clusters:\n",
    "            lin_reg = clone(self.estimator)\n",
    "            lin_reg.fit(X[self.clusterer.labels_ == cluster], y[self.clusterer.labels_ == cluster])\n",
    "            lin_regs[cluster] = lin_reg\n",
    "            \n",
    "        self.lin_regs_ = lin_regs\n",
    "        \n",
    "        # train classifier to classify the new instances (if needed)\n",
    "        if self.classifier != None:\n",
    "            self.classifier.fit(X, self.clusterer.labels_)\n",
    "        \n",
    "        return self.lin_regs_\n",
    "    \n",
    "    def transform(self, X):\n",
    "        return self.clusterer.transform(X)\n",
    "    \n",
    "    def predict(self, X):\n",
    "        y_hat = np.zeros(X.shape[0])\n",
    "        \n",
    "        # predict the cluster of new instances\n",
    "        if self.classifier != None:\n",
    "            clusters_pred = self.classifier.predict(X)\n",
    "        else:\n",
    "            clusters_pred = self.clusterer.predict(X)\n",
    "        \n",
    "        # predict the labels of new instances based on clusters\n",
    "        for cluster in self.lin_regs_.keys():\n",
    "            if X[clusters_pred == cluster].shape[0] > 0:\n",
    "                y_hat_cluster = self.lin_regs_[cluster].predict(X[clusters_pred == cluster])\n",
    "                y_hat[clusters_pred == cluster] = y_hat_cluster\n",
    "        \n",
    "        return y_hat"
   ]
  },
  {
   "cell_type": "markdown",
   "id": "49b489e4",
   "metadata": {},
   "source": [
    "### 4.2.1. KMeans and Elastic Net"
   ]
  },
  {
   "cell_type": "markdown",
   "id": "1b3ee4fc",
   "metadata": {},
   "source": [
    "**Note:** The linear-based strategy is to use KMeans as the clusterer and ElasticNet (LR) as the estimator."
   ]
  },
  {
   "cell_type": "code",
   "execution_count": 307,
   "id": "b9fb9c37",
   "metadata": {},
   "outputs": [
    {
     "data": {
      "text/plain": [
       "{0: ElasticNet(alpha=0),\n",
       " 1: ElasticNet(alpha=0),\n",
       " 2: ElasticNet(alpha=0),\n",
       " 3: ElasticNet(alpha=0)}"
      ]
     },
     "execution_count": 307,
     "metadata": {},
     "output_type": "execute_result"
    }
   ],
   "source": [
    "# Train a model\n",
    "lin_regs = ClusteredLinearRegression(clusterer=KMeans(n_clusters=4, random_state=42), \n",
    "                                     estimator=ElasticNet(alpha=0))\n",
    "lin_regs.fit(X_prep, y_prep)"
   ]
  },
  {
   "cell_type": "code",
   "execution_count": 308,
   "id": "7d4432ba",
   "metadata": {},
   "outputs": [
    {
     "data": {
      "text/plain": [
       "3.5843162529828927"
      ]
     },
     "execution_count": 308,
     "metadata": {},
     "output_type": "execute_result"
    }
   ],
   "source": [
    "# Evaluate the training\n",
    "root_mean_squared_error(y_prep, lin_regs.predict(X_prep))"
   ]
  },
  {
   "cell_type": "code",
   "execution_count": 309,
   "id": "bedbac2b",
   "metadata": {},
   "outputs": [
    {
     "name": "stdout",
     "output_type": "stream",
     "text": [
      "Scores: [ 4.19637542  4.73702828  3.12769397  4.10767808  3.56078264  4.09931368\n",
      " 20.7310744   3.76792974  3.75225088  3.72440778]\n",
      "Mean: 5.580453487224818\n",
      "Standard deviation: 5.0665448504849255\n"
     ]
    }
   ],
   "source": [
    "# K-fold cross validation on the model\n",
    "scores = np.sqrt(-cross_val_score(lin_regs, X_prep, y_prep, scoring=\"neg_mean_squared_error\", \n",
    "                                  cv=10, error_score=\"raise\"))\n",
    "display_scores(scores)"
   ]
  },
  {
   "cell_type": "markdown",
   "id": "cbd76993",
   "metadata": {},
   "source": [
    "### 4.2.2. KMeans, Elastic Net and KNN"
   ]
  },
  {
   "cell_type": "code",
   "execution_count": 310,
   "id": "ee9d97ab",
   "metadata": {},
   "outputs": [
    {
     "data": {
      "text/plain": [
       "{0: ElasticNet(alpha=0),\n",
       " 1: ElasticNet(alpha=0),\n",
       " 2: ElasticNet(alpha=0),\n",
       " 3: ElasticNet(alpha=0)}"
      ]
     },
     "execution_count": 310,
     "metadata": {},
     "output_type": "execute_result"
    }
   ],
   "source": [
    "# Train a model\n",
    "kmeans_lins_knn = ClusteredLinearRegression(clusterer=KMeans(n_clusters=4, random_state=42), \n",
    "                                           estimator=ElasticNet(alpha=0), \n",
    "                                           classifier=KNeighborsClassifier())\n",
    "kmeans_lins_knn.fit(X_prep, y_prep)"
   ]
  },
  {
   "cell_type": "code",
   "execution_count": 311,
   "id": "464db698",
   "metadata": {},
   "outputs": [
    {
     "data": {
      "text/plain": [
       "3.6007485120009877"
      ]
     },
     "execution_count": 311,
     "metadata": {},
     "output_type": "execute_result"
    }
   ],
   "source": [
    "# Evaluate the training\n",
    "root_mean_squared_error(y_prep, kmeans_lins_knn.predict(X_prep))"
   ]
  },
  {
   "cell_type": "code",
   "execution_count": 312,
   "id": "aa248efe",
   "metadata": {},
   "outputs": [
    {
     "name": "stdout",
     "output_type": "stream",
     "text": [
      "Scores: [ 3.82858284 12.45237965  3.10203562  4.19151137  3.56682156  4.13761795\n",
      "  3.4028676   3.77751546  3.93654482  3.70427372]\n",
      "Mean: 4.610015059384608\n",
      "Standard deviation: 2.632452617362503\n"
     ]
    }
   ],
   "source": [
    "# K-fold cross validation on the model\n",
    "scores = np.sqrt(-cross_val_score(kmeans_lins_knn, X_prep, y_prep, scoring=\"neg_mean_squared_error\", \n",
    "                                  cv=10, error_score=\"raise\"))\n",
    "display_scores(scores)"
   ]
  },
  {
   "cell_type": "markdown",
   "id": "ca6fba26",
   "metadata": {},
   "source": [
    "# 5. Fine-tune Hyperparameters"
   ]
  },
  {
   "cell_type": "markdown",
   "id": "1d125e30",
   "metadata": {},
   "source": [
    "## 5.1. Clustered Linear Regression"
   ]
  },
  {
   "cell_type": "markdown",
   "id": "ae06255d",
   "metadata": {},
   "source": [
    "### 5.1.1. KMeans and Elastic Net"
   ]
  },
  {
   "cell_type": "markdown",
   "id": "5e221bd1",
   "metadata": {},
   "source": [
    "#### Randomized Search"
   ]
  },
  {
   "cell_type": "code",
   "execution_count": 313,
   "id": "bb85780d",
   "metadata": {},
   "outputs": [
    {
     "data": {
      "text/plain": [
       "RandomizedSearchCV(cv=10, error_score='raise',\n",
       "                   estimator=ClusteredLinearRegression(), n_iter=15,\n",
       "                   param_distributions={'clusterer__n_clusters': <scipy.stats._distn_infrastructure.rv_frozen object at 0x00000211A76EEC40>,\n",
       "                                        'estimator__alpha': <scipy.stats._distn_infrastructure.rv_frozen object at 0x00000211A778B910>,\n",
       "                                        'estimator__l1_ratio': <scipy.stats._distn_infrastructure.rv_frozen object at 0x00000211A778BD60>},\n",
       "                   random_state=42, scoring='neg_mean_squared_error')"
      ]
     },
     "execution_count": 313,
     "metadata": {},
     "output_type": "execute_result"
    }
   ],
   "source": [
    "# Perform randomized search\n",
    "param_distribs = {\n",
    "    \"clusterer__n_clusters\": randint(low=1, high=50),\n",
    "    \"estimator__alpha\": uniform(loc=0, scale=2),\n",
    "    \"estimator__l1_ratio\": uniform(loc=0.01, scale=0.09)\n",
    "}\n",
    "\n",
    "lins_rndsearch = RandomizedSearchCV(ClusteredLinearRegression(), param_distributions=param_distribs,\n",
    "                                     n_iter=15, cv=10, scoring='neg_mean_squared_error', \n",
    "                                     error_score=\"raise\", random_state=42)\n",
    "lins_rndsearch.fit(X_prep, y_prep)"
   ]
  },
  {
   "cell_type": "code",
   "execution_count": 314,
   "id": "03cb1ee0",
   "metadata": {},
   "outputs": [
    {
     "name": "stdout",
     "output_type": "stream",
     "text": [
      "4.32251854628293 {'clusterer__n_clusters': 39, 'estimator__alpha': 1.5930859737204657, 'estimator__l1_ratio': 0.02650913108795474}\n",
      "4.927993530238739 {'clusterer__n_clusters': 8, 'estimator__alpha': 1.1973169683940732, 'estimator__l1_ratio': 0.024041677639819285}\n",
      "3.6667983719692456 {'clusterer__n_clusters': 19, 'estimator__alpha': 0.19994983163600577, 'estimator__l1_ratio': 0.05133240027692804}\n",
      "3.5610669531861006 {'clusterer__n_clusters': 36, 'estimator__alpha': 0.28573363584388156, 'estimator__l1_ratio': 0.06857996256539675}\n",
      "5.245624391621732 {'clusterer__n_clusters': 2, 'estimator__alpha': 1.4439975445336495, 'estimator__l1_ratio': 0.09446974381141751}\n",
      "4.4026697956033205 {'clusterer__n_clusters': 2, 'estimator__alpha': 0.36364993441420124, 'estimator__l1_ratio': 0.026506405886809047}\n",
      "4.950302363482868 {'clusterer__n_clusters': 12, 'estimator__alpha': 1.2233063209765618, 'estimator__l1_ratio': 0.010635967469774566}\n",
      "3.9389219372668314 {'clusterer__n_clusters': 25, 'estimator__alpha': 0.5824582803960838, 'estimator__l1_ratio': 0.06506676052501414}\n",
      "3.2495205431012746 {'clusterer__n_clusters': 42, 'estimator__alpha': 0.09333132642723085, 'estimator__l1_ratio': 0.09763799669573131}\n",
      "4.519854501853061 {'clusterer__n_clusters': 15, 'estimator__alpha': 0.9121399684340719, 'estimator__l1_ratio': 0.08066583652537121}\n",
      "4.05224913110834 {'clusterer__n_clusters': 44, 'estimator__alpha': 1.0284688768272232, 'estimator__l1_ratio': 0.06331731119758383}\n",
      "5.276478197423174 {'clusterer__n_clusters': 3, 'estimator__alpha': 1.719880813472641, 'estimator__l1_ratio': 0.07122767847290017}\n",
      "3.930962729126687 {'clusterer__n_clusters': 9, 'estimator__alpha': 0.13010318597055903, 'estimator__l1_ratio': 0.09539969835279999}\n",
      "4.9856891407510675 {'clusterer__n_clusters': 14, 'estimator__alpha': 1.6167946962329223, 'estimator__l1_ratio': 0.03741523922560336}\n",
      "5.183961802536049 {'clusterer__n_clusters': 2, 'estimator__alpha': 1.3684660530243138, 'estimator__l1_ratio': 0.049613724436564116}\n"
     ]
    }
   ],
   "source": [
    "# Evaluate score\n",
    "cvres = lins_rndsearch.cv_results_\n",
    "for mean_score, params in zip(cvres[\"mean_test_score\"], cvres[\"params\"]):\n",
    "    print(np.sqrt(-mean_score), params)"
   ]
  },
  {
   "cell_type": "code",
   "execution_count": 315,
   "id": "a0322bc5",
   "metadata": {},
   "outputs": [
    {
     "data": {
      "text/plain": [
       "{'clusterer__n_clusters': 42,\n",
       " 'estimator__alpha': 0.09333132642723085,\n",
       " 'estimator__l1_ratio': 0.09763799669573131}"
      ]
     },
     "execution_count": 315,
     "metadata": {},
     "output_type": "execute_result"
    }
   ],
   "source": [
    "# Show the best estimator\n",
    "lins_rndsearch.best_params_"
   ]
  },
  {
   "cell_type": "markdown",
   "id": "8c179876",
   "metadata": {},
   "source": [
    "### 5.1.2. KMeans, ElasticNet and KNN"
   ]
  },
  {
   "cell_type": "code",
   "execution_count": 316,
   "id": "614f4992",
   "metadata": {},
   "outputs": [
    {
     "data": {
      "text/plain": [
       "RandomizedSearchCV(cv=10, error_score='raise',\n",
       "                   estimator=ClusteredLinearRegression(classifier=KNeighborsClassifier()),\n",
       "                   n_iter=15,\n",
       "                   param_distributions={'classifier__n_neighbors': <scipy.stats._distn_infrastructure.rv_frozen object at 0x00000211A778CA30>,\n",
       "                                        'classifier__weights': ['distance'],\n",
       "                                        'clusterer__n_clusters': <scipy.stats._distn_infrastructure.rv_frozen object at 0x00000211A76E20A0>,\n",
       "                                        'estimator__alpha': <scipy.stats._distn_infrastructure.rv_frozen object at 0x00000211A76E2490>,\n",
       "                                        'estimator__l1_ratio': <scipy.stats._distn_infrastructure.rv_frozen object at 0x00000211A7789610>},\n",
       "                   random_state=42, scoring='neg_mean_squared_error')"
      ]
     },
     "execution_count": 316,
     "metadata": {},
     "output_type": "execute_result"
    }
   ],
   "source": [
    "# Perform randomized search\n",
    "param_distribs = {\n",
    "    \"clusterer__n_clusters\": randint(low=1, high=50),\n",
    "    \"estimator__alpha\": uniform(loc=0, scale=2),\n",
    "    \"estimator__l1_ratio\": uniform(loc=0.01, scale=0.09),\n",
    "    \"classifier__n_neighbors\": randint(low=2, high=15),\n",
    "    \"classifier__weights\": [\"distance\"]\n",
    "}\n",
    "\n",
    "kmeans_lins_knn_rndsearch = RandomizedSearchCV(ClusteredLinearRegression(classifier=KNeighborsClassifier()), \n",
    "                                     param_distributions=param_distribs,\n",
    "                                     n_iter=15, cv=10, scoring='neg_mean_squared_error', \n",
    "                                     error_score=\"raise\", random_state=42)\n",
    "kmeans_lins_knn_rndsearch.fit(X_prep, y_prep)"
   ]
  },
  {
   "cell_type": "code",
   "execution_count": 317,
   "id": "f4af8ea5",
   "metadata": {},
   "outputs": [
    {
     "name": "stdout",
     "output_type": "stream",
     "text": [
      "3.6493872314945954 {'classifier__n_neighbors': 8, 'classifier__weights': 'distance', 'clusterer__n_clusters': 29, 'estimator__alpha': 0.3668695797323276, 'estimator__l1_ratio': 0.08017219002454923}\n",
      "4.0058135643155675 {'classifier__n_neighbors': 6, 'classifier__weights': 'distance', 'clusterer__n_clusters': 39, 'estimator__alpha': 0.8916655057071823, 'estimator__l1_ratio': 0.018997742423620262}\n",
      "4.062921627990668 {'classifier__n_neighbors': 12, 'classifier__weights': 'distance', 'clusterer__n_clusters': 24, 'estimator__alpha': 0.6674172222780437, 'estimator__l1_ratio': 0.022858013612974667}\n",
      "3.447015274006256 {'classifier__n_neighbors': 4, 'classifier__weights': 'distance', 'clusterer__n_clusters': 22, 'estimator__alpha': 0.11282315805420051, 'estimator__l1_ratio': 0.07497988950401421}\n",
      "4.457487157583792 {'classifier__n_neighbors': 7, 'classifier__weights': 'distance', 'clusterer__n_clusters': 2, 'estimator__alpha': 0.36364993441420124, 'estimator__l1_ratio': 0.026506405886809047}\n",
      "3.3996441472371446 {'classifier__n_neighbors': 13, 'classifier__weights': 'distance', 'clusterer__n_clusters': 22, 'estimator__alpha': 0.014132610439434812, 'estimator__l1_ratio': 0.012075618253727417}\n",
      "3.2245903261658375 {'classifier__n_neighbors': 12, 'classifier__weights': 'distance', 'clusterer__n_clusters': 42, 'estimator__alpha': 0.09333132642723085, 'estimator__l1_ratio': 0.09763799669573131}\n",
      "4.079795089925015 {'classifier__n_neighbors': 4, 'classifier__weights': 'distance', 'clusterer__n_clusters': 44, 'estimator__alpha': 1.0284688768272232, 'estimator__l1_ratio': 0.06331731119758383}\n",
      "4.19645898725807 {'classifier__n_neighbors': 4, 'classifier__weights': 'distance', 'clusterer__n_clusters': 37, 'estimator__alpha': 1.2150897038028767, 'estimator__l1_ratio': 0.025347171131856236}\n",
      "4.861890594848504 {'classifier__n_neighbors': 8, 'classifier__weights': 'distance', 'clusterer__n_clusters': 18, 'estimator__alpha': 1.8977710745066665, 'estimator__l1_ratio': 0.09690688297671034}\n",
      "3.7125699905812937 {'classifier__n_neighbors': 3, 'classifier__weights': 'distance', 'clusterer__n_clusters': 9, 'estimator__alpha': 0.03193250444042839, 'estimator__l1_ratio': 0.030780444305993408}\n",
      "4.0902140011205805 {'classifier__n_neighbors': 13, 'classifier__weights': 'distance', 'clusterer__n_clusters': 47, 'estimator__alpha': 1.3665270376509164, 'estimator__l1_ratio': 0.06489969920043588}\n",
      "3.5098793431227744 {'classifier__n_neighbors': 9, 'classifier__weights': 'distance', 'clusterer__n_clusters': 47, 'estimator__alpha': 0.34672930701554416, 'estimator__l1_ratio': 0.045195454681591675}\n",
      "4.3086077033063015 {'classifier__n_neighbors': 3, 'classifier__weights': 'distance', 'clusterer__n_clusters': 40, 'estimator__alpha': 1.510722820635305, 'estimator__l1_ratio': 0.04826402870421202}\n",
      "4.1234855300688 {'classifier__n_neighbors': 7, 'classifier__weights': 'distance', 'clusterer__n_clusters': 42, 'estimator__alpha': 1.135400655639983, 'estimator__l1_ratio': 0.012818196321000272}\n"
     ]
    }
   ],
   "source": [
    "# Evaluate score\n",
    "cvres = kmeans_lins_knn_rndsearch.cv_results_\n",
    "for mean_score, params in zip(cvres[\"mean_test_score\"], cvres[\"params\"]):\n",
    "    print(np.sqrt(-mean_score), params)"
   ]
  },
  {
   "cell_type": "code",
   "execution_count": 318,
   "id": "e00c0572",
   "metadata": {},
   "outputs": [
    {
     "data": {
      "text/plain": [
       "{'classifier__n_neighbors': 12,\n",
       " 'classifier__weights': 'distance',\n",
       " 'clusterer__n_clusters': 42,\n",
       " 'estimator__alpha': 0.09333132642723085,\n",
       " 'estimator__l1_ratio': 0.09763799669573131}"
      ]
     },
     "execution_count": 318,
     "metadata": {},
     "output_type": "execute_result"
    }
   ],
   "source": [
    "# Show the best params\n",
    "kmeans_lins_knn_rndsearch.best_params_"
   ]
  },
  {
   "cell_type": "code",
   "execution_count": 319,
   "id": "fc7f5203",
   "metadata": {},
   "outputs": [
    {
     "data": {
      "text/plain": [
       "ClusteredLinearRegression(classifier=KNeighborsClassifier(n_neighbors=12,\n",
       "                                                          weights='distance'),\n",
       "                          clusterer=KMeans(n_clusters=42, random_state=42),\n",
       "                          estimator=ElasticNet(alpha=0.09333132642723085,\n",
       "                                               l1_ratio=0.09763799669573131))"
      ]
     },
     "execution_count": 319,
     "metadata": {},
     "output_type": "execute_result"
    }
   ],
   "source": [
    "# Show the best estimator\n",
    "kmeans_lins_knn_rndsearch.best_estimator_"
   ]
  },
  {
   "cell_type": "markdown",
   "id": "eb2aca64",
   "metadata": {},
   "source": [
    "# 6. Evaluate the System on the Test Set"
   ]
  },
  {
   "cell_type": "code",
   "execution_count": 343,
   "id": "cff6b67b",
   "metadata": {},
   "outputs": [],
   "source": [
    "# Recall test set\n",
    "X_test = test_set.drop(columns=[\"life_expectancy\"])\n",
    "X_test_prep = test_preprocessor.fit_transform(X_test)\n",
    "y_test = test_set[\"life_expectancy\"].copy()"
   ]
  },
  {
   "cell_type": "markdown",
   "id": "23182608",
   "metadata": {},
   "source": [
    "## 6.1. Clustered Linear Regression"
   ]
  },
  {
   "cell_type": "markdown",
   "id": "ece02970",
   "metadata": {},
   "source": [
    "### 6.1.1. Kmeans and Elastic Net"
   ]
  },
  {
   "cell_type": "code",
   "execution_count": 344,
   "id": "e2d0217f",
   "metadata": {},
   "outputs": [
    {
     "data": {
      "text/plain": [
       "3.2788597132218924"
      ]
     },
     "execution_count": 344,
     "metadata": {},
     "output_type": "execute_result"
    }
   ],
   "source": [
    "# Evaluate CLR on test set\n",
    "final_models = lins_rndsearch.best_estimator_\n",
    "y_pred_lrs = final_models.predict(X_test_prep)\n",
    "root_mean_squared_error(y_test, y_pred_lrs)"
   ]
  },
  {
   "cell_type": "code",
   "execution_count": 345,
   "id": "e9800fa5",
   "metadata": {},
   "outputs": [
    {
     "data": {
      "text/plain": [
       "array([2.93684427, 3.58842414])"
      ]
     },
     "execution_count": 345,
     "metadata": {},
     "output_type": "execute_result"
    }
   ],
   "source": [
    "# Compute 95% confidence interval for generalization error\n",
    "from scipy import stats\n",
    "confidence = 0.95\n",
    "\n",
    "squared_errors = (y_pred_lrs - y_test) ** 2\n",
    "np.sqrt(stats.t.interval(confidence, len(squared_errors) - 1,\n",
    "                         loc=squared_errors.mean(),\n",
    "                         scale=stats.sem(squared_errors))) # t-distribution"
   ]
  },
  {
   "cell_type": "code",
   "execution_count": 346,
   "id": "bc16a71a",
   "metadata": {},
   "outputs": [
    {
     "data": {
      "text/plain": [
       "0.8825431934075028"
      ]
     },
     "execution_count": 346,
     "metadata": {},
     "output_type": "execute_result"
    }
   ],
   "source": [
    "# Show r2 score\n",
    "r2_score(y_test, y_pred_lrs)"
   ]
  },
  {
   "cell_type": "markdown",
   "id": "8f8da80e",
   "metadata": {},
   "source": [
    "### 6.1.2. Kmeans, Elastic Net and KNN"
   ]
  },
  {
   "cell_type": "code",
   "execution_count": 347,
   "id": "287ec255",
   "metadata": {},
   "outputs": [
    {
     "data": {
      "text/plain": [
       "3.207499985872506"
      ]
     },
     "execution_count": 347,
     "metadata": {},
     "output_type": "execute_result"
    }
   ],
   "source": [
    "y_pred_lrs_knn = kmeans_lins_knn_rndsearch.best_estimator_.predict(X_test_prep)\n",
    "root_mean_squared_error(y_test, y_pred_lrs_knn)"
   ]
  },
  {
   "cell_type": "code",
   "execution_count": 348,
   "id": "d1d54377",
   "metadata": {},
   "outputs": [
    {
     "data": {
      "text/plain": [
       "array([2.88934487, 3.49682693])"
      ]
     },
     "execution_count": 348,
     "metadata": {},
     "output_type": "execute_result"
    }
   ],
   "source": [
    "# Compute 95% confidence interval for generalization error\n",
    "from scipy import stats\n",
    "confidence = 0.95\n",
    "\n",
    "squared_errors = (y_pred_lrs_knn - y_test) ** 2\n",
    "np.sqrt(stats.t.interval(confidence, len(squared_errors) - 1,\n",
    "                         loc=squared_errors.mean(),\n",
    "                         scale=stats.sem(squared_errors))) # t-distribution"
   ]
  },
  {
   "cell_type": "code",
   "execution_count": 349,
   "id": "c2fcb68c",
   "metadata": {},
   "outputs": [
    {
     "data": {
      "text/plain": [
       "0.887600120920831"
      ]
     },
     "execution_count": 349,
     "metadata": {},
     "output_type": "execute_result"
    }
   ],
   "source": [
    "# Show r2 score\n",
    "r2_score(y_test, y_pred_lrs_knn)"
   ]
  }
 ],
 "metadata": {
  "kernelspec": {
   "display_name": "Python 3 (ipykernel)",
   "language": "python",
   "name": "python3"
  },
  "language_info": {
   "codemirror_mode": {
    "name": "ipython",
    "version": 3
   },
   "file_extension": ".py",
   "mimetype": "text/x-python",
   "name": "python",
   "nbconvert_exporter": "python",
   "pygments_lexer": "ipython3",
   "version": "3.9.7"
  }
 },
 "nbformat": 4,
 "nbformat_minor": 5
}
